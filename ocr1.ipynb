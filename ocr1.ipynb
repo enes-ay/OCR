{
  "cells": [
    {
      "cell_type": "code",
      "execution_count": 56,
      "metadata": {
        "id": "GEK3XVkiwj-d"
      },
      "outputs": [],
      "source": [
        "import numpy as np\n",
        "import zipfile as zipfile\n",
        "import pandas as pd\n",
        "import matplotlib.pyplot as plt\n",
        "import seaborn as sns\n",
        "from sklearn.preprocessing import LabelBinarizer\n",
        "from sklearn.model_selection import train_test_split\n",
        "from sklearn.metrics import classification_report\n",
        "from sklearn.metrics import confusion_matrix\n",
        "from sklearn import metrics\n"
      ]
    },
    {
      "cell_type": "markdown",
      "metadata": {
        "id": "VTt1QM_nxya9"
      },
      "source": [
        "Digit Dataset"
      ]
    },
    {
      "cell_type": "code",
      "execution_count": 3,
      "metadata": {
        "id": "Ndtonw5Yxs9C"
      },
      "outputs": [],
      "source": [
        "from tensorflow.keras.datasets import mnist"
      ]
    },
    {
      "cell_type": "code",
      "execution_count": 4,
      "metadata": {
        "id": "Uy2LNRE1yj1N"
      },
      "outputs": [],
      "source": [
        "(train_data,train_labels),(test_data,test_labels) = mnist.load_data()"
      ]
    },
    {
      "cell_type": "code",
      "execution_count": 5,
      "metadata": {
        "colab": {
          "base_uri": "https://localhost:8080/",
          "height": 68
        },
        "id": "FECMngluy-y8",
        "outputId": "52cadfe8-b5ce-4122-898f-93e681449a04"
      },
      "outputs": [
        {
          "data": {
            "text/plain": [
              "array([[  0,   0,   0,   0,   0,   0,   0,   0,   0,   0,   0,   0,   0,\n",
              "          0,   0,   0,   0,   0,   0,   0,   0,   0,   0,   0,   0,   0,\n",
              "          0,   0],\n",
              "       [  0,   0,   0,   0,   0,   0,   0,   0,   0,   0,   0,   0,   0,\n",
              "          0,   0,   0,   0,   0,   0,   0,   0,   0,   0,   0,   0,   0,\n",
              "          0,   0],\n",
              "       [  0,   0,   0,   0,   0,   0,   0,   0,   0,   0,   0,   0,   0,\n",
              "          0,   0,   0,   0,   0,   0,   0,   0,   0,   0,   0,   0,   0,\n",
              "          0,   0],\n",
              "       [  0,   0,   0,   0,   0,   0,   0,   0,   0,   0,   0,   0,   0,\n",
              "          0,   0,   0,   0,   0,   0,   0,   0,   0,   0,   0,   0,   0,\n",
              "          0,   0],\n",
              "       [  0,   0,   0,   0,   0,   0,   0,   0,   0,   0,   0,   0,   0,\n",
              "          0,   0,   0,   0,   0,   0,   0,   0,   0,   0,   0,   0,   0,\n",
              "          0,   0],\n",
              "       [  0,   0,   0,   0,   0,   0,   0,   0,   0,   0,   0,   0,   3,\n",
              "         18,  18,  18, 126, 136, 175,  26, 166, 255, 247, 127,   0,   0,\n",
              "          0,   0],\n",
              "       [  0,   0,   0,   0,   0,   0,   0,   0,  30,  36,  94, 154, 170,\n",
              "        253, 253, 253, 253, 253, 225, 172, 253, 242, 195,  64,   0,   0,\n",
              "          0,   0],\n",
              "       [  0,   0,   0,   0,   0,   0,   0,  49, 238, 253, 253, 253, 253,\n",
              "        253, 253, 253, 253, 251,  93,  82,  82,  56,  39,   0,   0,   0,\n",
              "          0,   0],\n",
              "       [  0,   0,   0,   0,   0,   0,   0,  18, 219, 253, 253, 253, 253,\n",
              "        253, 198, 182, 247, 241,   0,   0,   0,   0,   0,   0,   0,   0,\n",
              "          0,   0],\n",
              "       [  0,   0,   0,   0,   0,   0,   0,   0,  80, 156, 107, 253, 253,\n",
              "        205,  11,   0,  43, 154,   0,   0,   0,   0,   0,   0,   0,   0,\n",
              "          0,   0],\n",
              "       [  0,   0,   0,   0,   0,   0,   0,   0,   0,  14,   1, 154, 253,\n",
              "         90,   0,   0,   0,   0,   0,   0,   0,   0,   0,   0,   0,   0,\n",
              "          0,   0],\n",
              "       [  0,   0,   0,   0,   0,   0,   0,   0,   0,   0,   0, 139, 253,\n",
              "        190,   2,   0,   0,   0,   0,   0,   0,   0,   0,   0,   0,   0,\n",
              "          0,   0],\n",
              "       [  0,   0,   0,   0,   0,   0,   0,   0,   0,   0,   0,  11, 190,\n",
              "        253,  70,   0,   0,   0,   0,   0,   0,   0,   0,   0,   0,   0,\n",
              "          0,   0],\n",
              "       [  0,   0,   0,   0,   0,   0,   0,   0,   0,   0,   0,   0,  35,\n",
              "        241, 225, 160, 108,   1,   0,   0,   0,   0,   0,   0,   0,   0,\n",
              "          0,   0],\n",
              "       [  0,   0,   0,   0,   0,   0,   0,   0,   0,   0,   0,   0,   0,\n",
              "         81, 240, 253, 253, 119,  25,   0,   0,   0,   0,   0,   0,   0,\n",
              "          0,   0],\n",
              "       [  0,   0,   0,   0,   0,   0,   0,   0,   0,   0,   0,   0,   0,\n",
              "          0,  45, 186, 253, 253, 150,  27,   0,   0,   0,   0,   0,   0,\n",
              "          0,   0],\n",
              "       [  0,   0,   0,   0,   0,   0,   0,   0,   0,   0,   0,   0,   0,\n",
              "          0,   0,  16,  93, 252, 253, 187,   0,   0,   0,   0,   0,   0,\n",
              "          0,   0],\n",
              "       [  0,   0,   0,   0,   0,   0,   0,   0,   0,   0,   0,   0,   0,\n",
              "          0,   0,   0,   0, 249, 253, 249,  64,   0,   0,   0,   0,   0,\n",
              "          0,   0],\n",
              "       [  0,   0,   0,   0,   0,   0,   0,   0,   0,   0,   0,   0,   0,\n",
              "          0,  46, 130, 183, 253, 253, 207,   2,   0,   0,   0,   0,   0,\n",
              "          0,   0],\n",
              "       [  0,   0,   0,   0,   0,   0,   0,   0,   0,   0,   0,   0,  39,\n",
              "        148, 229, 253, 253, 253, 250, 182,   0,   0,   0,   0,   0,   0,\n",
              "          0,   0],\n",
              "       [  0,   0,   0,   0,   0,   0,   0,   0,   0,   0,  24, 114, 221,\n",
              "        253, 253, 253, 253, 201,  78,   0,   0,   0,   0,   0,   0,   0,\n",
              "          0,   0],\n",
              "       [  0,   0,   0,   0,   0,   0,   0,   0,  23,  66, 213, 253, 253,\n",
              "        253, 253, 198,  81,   2,   0,   0,   0,   0,   0,   0,   0,   0,\n",
              "          0,   0],\n",
              "       [  0,   0,   0,   0,   0,   0,  18, 171, 219, 253, 253, 253, 253,\n",
              "        195,  80,   9,   0,   0,   0,   0,   0,   0,   0,   0,   0,   0,\n",
              "          0,   0],\n",
              "       [  0,   0,   0,   0,  55, 172, 226, 253, 253, 253, 253, 244, 133,\n",
              "         11,   0,   0,   0,   0,   0,   0,   0,   0,   0,   0,   0,   0,\n",
              "          0,   0],\n",
              "       [  0,   0,   0,   0, 136, 253, 253, 253, 212, 135, 132,  16,   0,\n",
              "          0,   0,   0,   0,   0,   0,   0,   0,   0,   0,   0,   0,   0,\n",
              "          0,   0],\n",
              "       [  0,   0,   0,   0,   0,   0,   0,   0,   0,   0,   0,   0,   0,\n",
              "          0,   0,   0,   0,   0,   0,   0,   0,   0,   0,   0,   0,   0,\n",
              "          0,   0],\n",
              "       [  0,   0,   0,   0,   0,   0,   0,   0,   0,   0,   0,   0,   0,\n",
              "          0,   0,   0,   0,   0,   0,   0,   0,   0,   0,   0,   0,   0,\n",
              "          0,   0],\n",
              "       [  0,   0,   0,   0,   0,   0,   0,   0,   0,   0,   0,   0,   0,\n",
              "          0,   0,   0,   0,   0,   0,   0,   0,   0,   0,   0,   0,   0,\n",
              "          0,   0]], dtype=uint8)"
            ]
          },
          "execution_count": 5,
          "metadata": {},
          "output_type": "execute_result"
        }
      ],
      "source": [
        "train_data[0]"
      ]
    },
    {
      "cell_type": "code",
      "execution_count": 5,
      "metadata": {
        "id": "kx6BeA4pzDjq"
      },
      "outputs": [],
      "source": [
        "digits_data = np.vstack([train_data,test_data])\n",
        "digits_labels= np.hstack([train_labels,test_labels])"
      ]
    },
    {
      "cell_type": "code",
      "execution_count": 6,
      "metadata": {
        "colab": {
          "base_uri": "https://localhost:8080/"
        },
        "id": "plG6hMiWzDnq",
        "outputId": "b3ecab81-7586-44eb-f7af-64511f7d33c0"
      },
      "outputs": [
        {
          "data": {
            "text/plain": [
              "(70000, 28, 28)"
            ]
          },
          "execution_count": 6,
          "metadata": {},
          "output_type": "execute_result"
        }
      ],
      "source": [
        "digits_data.shape # 70000 image matrices 28x28"
      ]
    },
    {
      "cell_type": "code",
      "execution_count": 7,
      "metadata": {},
      "outputs": [
        {
          "data": {
            "text/plain": [
              "array([0, 1, 2, 3, 4, 5, 6, 7, 8, 9], dtype=uint8)"
            ]
          },
          "execution_count": 7,
          "metadata": {},
          "output_type": "execute_result"
        }
      ],
      "source": [
        "a = np.unique(digits_labels)\n",
        "a"
      ]
    },
    {
      "cell_type": "code",
      "execution_count": 7,
      "metadata": {
        "colab": {
          "base_uri": "https://localhost:8080/",
          "height": 469
        },
        "id": "wNSpafsGzDqD",
        "outputId": "b8c7c9dd-8323-4ce5-99e7-266e4bdd50ac"
      },
      "outputs": [
        {
          "data": {
            "text/plain": [
              "Text(0.5, 1.0, 'Class :3')"
            ]
          },
          "execution_count": 7,
          "metadata": {},
          "output_type": "execute_result"
        },
        {
          "data": {
            "image/png": "[encoded data removed]",
            "text/plain": [
              "<Figure size 640x480 with 1 Axes>"
            ]
          },
          "metadata": {},
          "output_type": "display_data"
        }
      ],
      "source": [
        "random_index = np.random.randint(0,train_data.shape[0])\n",
        "plt.imshow(digits_data[random_index], cmap= 'gray')\n",
        "plt.title('Class :'+ str(digits_labels[random_index]))"
      ]
    },
    {
      "cell_type": "markdown",
      "metadata": {
        "id": "g7NFJn6r8sMx"
      },
      "source": [
        "**A-Z DATASET**"
      ]
    },
    {
      "cell_type": "code",
      "execution_count": 8,
      "metadata": {
        "colab": {
          "base_uri": "https://localhost:8080/",
          "height": 424
        },
        "id": "Rs0y9RGC_0z_",
        "outputId": "2cc41f75-54c5-4adf-c7a7-6dc919a7b9d9"
      },
      "outputs": [],
      "source": [
        "dataset_az = pd.read_csv(r\"C:\\Users\\Enes\\Desktop\\OCR\\A_Z Handwritten Data\\A_Z Handwritten Data.csv\")"
      ]
    },
    {
      "cell_type": "code",
      "execution_count": 9,
      "metadata": {},
      "outputs": [
        {
          "data": {
            "text/plain": [
              "(372450, 785)"
            ]
          },
          "execution_count": 9,
          "metadata": {},
          "output_type": "execute_result"
        }
      ],
      "source": [
        "dataset_az.shape"
      ]
    },
    {
      "cell_type": "code",
      "execution_count": 10,
      "metadata": {
        "id": "OWJOK3i79-uC"
      },
      "outputs": [
        {
          "data": {
            "text/html": [
              "<div>\n",
              "<style scoped>\n",
              "    .dataframe tbody tr th:only-of-type {\n",
              "        vertical-align: middle;\n",
              "    }\n",
              "\n",
              "    .dataframe tbody tr th {\n",
              "        vertical-align: top;\n",
              "    }\n",
              "\n",
              "    .dataframe thead th {\n",
              "        text-align: right;\n",
              "    }\n",
              "</style>\n",
              "<table border=\"1\" class=\"dataframe\">\n",
              "  <thead>\n",
              "    <tr style=\"text-align: right;\">\n",
              "      <th></th>\n",
              "      <th>0.1</th>\n",
              "      <th>0.2</th>\n",
              "      <th>0.3</th>\n",
              "      <th>0.4</th>\n",
              "      <th>0.5</th>\n",
              "      <th>0.6</th>\n",
              "      <th>0.7</th>\n",
              "      <th>0.8</th>\n",
              "      <th>0.9</th>\n",
              "      <th>0.10</th>\n",
              "      <th>...</th>\n",
              "      <th>0.639</th>\n",
              "      <th>0.640</th>\n",
              "      <th>0.641</th>\n",
              "      <th>0.642</th>\n",
              "      <th>0.643</th>\n",
              "      <th>0.644</th>\n",
              "      <th>0.645</th>\n",
              "      <th>0.646</th>\n",
              "      <th>0.647</th>\n",
              "      <th>0.648</th>\n",
              "    </tr>\n",
              "  </thead>\n",
              "  <tbody>\n",
              "    <tr>\n",
              "      <th>0</th>\n",
              "      <td>0</td>\n",
              "      <td>0</td>\n",
              "      <td>0</td>\n",
              "      <td>0</td>\n",
              "      <td>0</td>\n",
              "      <td>0</td>\n",
              "      <td>0</td>\n",
              "      <td>0</td>\n",
              "      <td>0</td>\n",
              "      <td>0</td>\n",
              "      <td>...</td>\n",
              "      <td>0</td>\n",
              "      <td>0</td>\n",
              "      <td>0</td>\n",
              "      <td>0</td>\n",
              "      <td>0</td>\n",
              "      <td>0</td>\n",
              "      <td>0</td>\n",
              "      <td>0</td>\n",
              "      <td>0</td>\n",
              "      <td>0</td>\n",
              "    </tr>\n",
              "    <tr>\n",
              "      <th>1</th>\n",
              "      <td>0</td>\n",
              "      <td>0</td>\n",
              "      <td>0</td>\n",
              "      <td>0</td>\n",
              "      <td>0</td>\n",
              "      <td>0</td>\n",
              "      <td>0</td>\n",
              "      <td>0</td>\n",
              "      <td>0</td>\n",
              "      <td>0</td>\n",
              "      <td>...</td>\n",
              "      <td>0</td>\n",
              "      <td>0</td>\n",
              "      <td>0</td>\n",
              "      <td>0</td>\n",
              "      <td>0</td>\n",
              "      <td>0</td>\n",
              "      <td>0</td>\n",
              "      <td>0</td>\n",
              "      <td>0</td>\n",
              "      <td>0</td>\n",
              "    </tr>\n",
              "    <tr>\n",
              "      <th>2</th>\n",
              "      <td>0</td>\n",
              "      <td>0</td>\n",
              "      <td>0</td>\n",
              "      <td>0</td>\n",
              "      <td>0</td>\n",
              "      <td>0</td>\n",
              "      <td>0</td>\n",
              "      <td>0</td>\n",
              "      <td>0</td>\n",
              "      <td>0</td>\n",
              "      <td>...</td>\n",
              "      <td>0</td>\n",
              "      <td>0</td>\n",
              "      <td>0</td>\n",
              "      <td>0</td>\n",
              "      <td>0</td>\n",
              "      <td>0</td>\n",
              "      <td>0</td>\n",
              "      <td>0</td>\n",
              "      <td>0</td>\n",
              "      <td>0</td>\n",
              "    </tr>\n",
              "    <tr>\n",
              "      <th>3</th>\n",
              "      <td>0</td>\n",
              "      <td>0</td>\n",
              "      <td>0</td>\n",
              "      <td>0</td>\n",
              "      <td>0</td>\n",
              "      <td>0</td>\n",
              "      <td>0</td>\n",
              "      <td>0</td>\n",
              "      <td>0</td>\n",
              "      <td>0</td>\n",
              "      <td>...</td>\n",
              "      <td>0</td>\n",
              "      <td>0</td>\n",
              "      <td>0</td>\n",
              "      <td>0</td>\n",
              "      <td>0</td>\n",
              "      <td>0</td>\n",
              "      <td>0</td>\n",
              "      <td>0</td>\n",
              "      <td>0</td>\n",
              "      <td>0</td>\n",
              "    </tr>\n",
              "    <tr>\n",
              "      <th>4</th>\n",
              "      <td>0</td>\n",
              "      <td>0</td>\n",
              "      <td>0</td>\n",
              "      <td>0</td>\n",
              "      <td>0</td>\n",
              "      <td>0</td>\n",
              "      <td>0</td>\n",
              "      <td>0</td>\n",
              "      <td>0</td>\n",
              "      <td>0</td>\n",
              "      <td>...</td>\n",
              "      <td>0</td>\n",
              "      <td>0</td>\n",
              "      <td>0</td>\n",
              "      <td>0</td>\n",
              "      <td>0</td>\n",
              "      <td>0</td>\n",
              "      <td>0</td>\n",
              "      <td>0</td>\n",
              "      <td>0</td>\n",
              "      <td>0</td>\n",
              "    </tr>\n",
              "    <tr>\n",
              "      <th>...</th>\n",
              "      <td>...</td>\n",
              "      <td>...</td>\n",
              "      <td>...</td>\n",
              "      <td>...</td>\n",
              "      <td>...</td>\n",
              "      <td>...</td>\n",
              "      <td>...</td>\n",
              "      <td>...</td>\n",
              "      <td>...</td>\n",
              "      <td>...</td>\n",
              "      <td>...</td>\n",
              "      <td>...</td>\n",
              "      <td>...</td>\n",
              "      <td>...</td>\n",
              "      <td>...</td>\n",
              "      <td>...</td>\n",
              "      <td>...</td>\n",
              "      <td>...</td>\n",
              "      <td>...</td>\n",
              "      <td>...</td>\n",
              "      <td>...</td>\n",
              "    </tr>\n",
              "    <tr>\n",
              "      <th>372445</th>\n",
              "      <td>0</td>\n",
              "      <td>0</td>\n",
              "      <td>0</td>\n",
              "      <td>0</td>\n",
              "      <td>0</td>\n",
              "      <td>0</td>\n",
              "      <td>0</td>\n",
              "      <td>0</td>\n",
              "      <td>0</td>\n",
              "      <td>0</td>\n",
              "      <td>...</td>\n",
              "      <td>0</td>\n",
              "      <td>0</td>\n",
              "      <td>0</td>\n",
              "      <td>0</td>\n",
              "      <td>0</td>\n",
              "      <td>0</td>\n",
              "      <td>0</td>\n",
              "      <td>0</td>\n",
              "      <td>0</td>\n",
              "      <td>0</td>\n",
              "    </tr>\n",
              "    <tr>\n",
              "      <th>372446</th>\n",
              "      <td>0</td>\n",
              "      <td>0</td>\n",
              "      <td>0</td>\n",
              "      <td>0</td>\n",
              "      <td>0</td>\n",
              "      <td>0</td>\n",
              "      <td>0</td>\n",
              "      <td>0</td>\n",
              "      <td>0</td>\n",
              "      <td>0</td>\n",
              "      <td>...</td>\n",
              "      <td>0</td>\n",
              "      <td>0</td>\n",
              "      <td>0</td>\n",
              "      <td>0</td>\n",
              "      <td>0</td>\n",
              "      <td>0</td>\n",
              "      <td>0</td>\n",
              "      <td>0</td>\n",
              "      <td>0</td>\n",
              "      <td>0</td>\n",
              "    </tr>\n",
              "    <tr>\n",
              "      <th>372447</th>\n",
              "      <td>0</td>\n",
              "      <td>0</td>\n",
              "      <td>0</td>\n",
              "      <td>0</td>\n",
              "      <td>0</td>\n",
              "      <td>0</td>\n",
              "      <td>0</td>\n",
              "      <td>0</td>\n",
              "      <td>0</td>\n",
              "      <td>0</td>\n",
              "      <td>...</td>\n",
              "      <td>0</td>\n",
              "      <td>0</td>\n",
              "      <td>0</td>\n",
              "      <td>0</td>\n",
              "      <td>0</td>\n",
              "      <td>0</td>\n",
              "      <td>0</td>\n",
              "      <td>0</td>\n",
              "      <td>0</td>\n",
              "      <td>0</td>\n",
              "    </tr>\n",
              "    <tr>\n",
              "      <th>372448</th>\n",
              "      <td>0</td>\n",
              "      <td>0</td>\n",
              "      <td>0</td>\n",
              "      <td>0</td>\n",
              "      <td>0</td>\n",
              "      <td>0</td>\n",
              "      <td>0</td>\n",
              "      <td>0</td>\n",
              "      <td>0</td>\n",
              "      <td>0</td>\n",
              "      <td>...</td>\n",
              "      <td>0</td>\n",
              "      <td>0</td>\n",
              "      <td>0</td>\n",
              "      <td>0</td>\n",
              "      <td>0</td>\n",
              "      <td>0</td>\n",
              "      <td>0</td>\n",
              "      <td>0</td>\n",
              "      <td>0</td>\n",
              "      <td>0</td>\n",
              "    </tr>\n",
              "    <tr>\n",
              "      <th>372449</th>\n",
              "      <td>0</td>\n",
              "      <td>0</td>\n",
              "      <td>0</td>\n",
              "      <td>0</td>\n",
              "      <td>0</td>\n",
              "      <td>0</td>\n",
              "      <td>0</td>\n",
              "      <td>0</td>\n",
              "      <td>0</td>\n",
              "      <td>0</td>\n",
              "      <td>...</td>\n",
              "      <td>0</td>\n",
              "      <td>0</td>\n",
              "      <td>0</td>\n",
              "      <td>0</td>\n",
              "      <td>0</td>\n",
              "      <td>0</td>\n",
              "      <td>0</td>\n",
              "      <td>0</td>\n",
              "      <td>0</td>\n",
              "      <td>0</td>\n",
              "    </tr>\n",
              "  </tbody>\n",
              "</table>\n",
              "<p>372450 rows × 784 columns</p>\n",
              "</div>"
            ],
            "text/plain": [
              "        0.1  0.2  0.3  0.4  0.5  0.6  0.7  0.8  0.9  0.10  ...  0.639  0.640  \\\n",
              "0         0    0    0    0    0    0    0    0    0     0  ...      0      0   \n",
              "1         0    0    0    0    0    0    0    0    0     0  ...      0      0   \n",
              "2         0    0    0    0    0    0    0    0    0     0  ...      0      0   \n",
              "3         0    0    0    0    0    0    0    0    0     0  ...      0      0   \n",
              "4         0    0    0    0    0    0    0    0    0     0  ...      0      0   \n",
              "...     ...  ...  ...  ...  ...  ...  ...  ...  ...   ...  ...    ...    ...   \n",
              "372445    0    0    0    0    0    0    0    0    0     0  ...      0      0   \n",
              "372446    0    0    0    0    0    0    0    0    0     0  ...      0      0   \n",
              "372447    0    0    0    0    0    0    0    0    0     0  ...      0      0   \n",
              "372448    0    0    0    0    0    0    0    0    0     0  ...      0      0   \n",
              "372449    0    0    0    0    0    0    0    0    0     0  ...      0      0   \n",
              "\n",
              "        0.641  0.642  0.643  0.644  0.645  0.646  0.647  0.648  \n",
              "0           0      0      0      0      0      0      0      0  \n",
              "1           0      0      0      0      0      0      0      0  \n",
              "2           0      0      0      0      0      0      0      0  \n",
              "3           0      0      0      0      0      0      0      0  \n",
              "4           0      0      0      0      0      0      0      0  \n",
              "...       ...    ...    ...    ...    ...    ...    ...    ...  \n",
              "372445      0      0      0      0      0      0      0      0  \n",
              "372446      0      0      0      0      0      0      0      0  \n",
              "372447      0      0      0      0      0      0      0      0  \n",
              "372448      0      0      0      0      0      0      0      0  \n",
              "372449      0      0      0      0      0      0      0      0  \n",
              "\n",
              "[372450 rows x 784 columns]"
            ]
          },
          "execution_count": 10,
          "metadata": {},
          "output_type": "execute_result"
        }
      ],
      "source": [
        "alfabet_data = dataset_az.drop('0',axis=1)\n",
        "alfabet_labels = dataset_az['0']\n",
        "alfabet_data"
      ]
    },
    {
      "cell_type": "code",
      "execution_count": 11,
      "metadata": {
        "colab": {
          "base_uri": "https://localhost:8080/"
        },
        "id": "ZtvkEbGR9-wK",
        "outputId": "399e0c1c-5adf-4e85-f5e3-783f7f8ff868"
      },
      "outputs": [
        {
          "data": {
            "text/plain": [
              "((372450, 784), (372450,))"
            ]
          },
          "execution_count": 11,
          "metadata": {},
          "output_type": "execute_result"
        }
      ],
      "source": [
        "alfabet_data.shape, alfabet_labels.shape"
      ]
    },
    {
      "cell_type": "code",
      "execution_count": 12,
      "metadata": {
        "colab": {
          "base_uri": "https://localhost:8080/"
        },
        "id": "FnHvf2p59-yg",
        "outputId": "1892689c-a79c-4e12-a743-40963f94630d"
      },
      "outputs": [
        {
          "data": {
            "text/plain": [
              "0          0\n",
              "1          0\n",
              "2          0\n",
              "3          0\n",
              "4          0\n",
              "          ..\n",
              "372445    25\n",
              "372446    25\n",
              "372447    25\n",
              "372448    25\n",
              "372449    25\n",
              "Name: 0, Length: 372450, dtype: int64"
            ]
          },
          "execution_count": 12,
          "metadata": {},
          "output_type": "execute_result"
        }
      ],
      "source": [
        "alfabet_labels"
      ]
    },
    {
      "cell_type": "code",
      "execution_count": 13,
      "metadata": {
        "id": "qsg-vKi29-0a"
      },
      "outputs": [],
      "source": [
        "alfabet_data = np.reshape(alfabet_data.values, (alfabet_data.shape[0],28,28))"
      ]
    },
    {
      "cell_type": "code",
      "execution_count": 14,
      "metadata": {},
      "outputs": [
        {
          "name": "stdout",
          "output_type": "stream",
          "text": [
            "value counts    Harf   Sayı\n",
            "0     A  13869\n",
            "1     B   8668\n",
            "2     C  23409\n",
            "3     D  10134\n",
            "4     E  11440\n",
            "5     F   1163\n",
            "6     G   5762\n",
            "7     H   7218\n",
            "8     I   1120\n",
            "9     J   8493\n",
            "10    K   5603\n",
            "11    L  11586\n",
            "12    M  12336\n",
            "13    N  19010\n",
            "14    O  57825\n",
            "15    P  19341\n",
            "16    Q   5812\n",
            "17    R  11566\n",
            "18    S  48419\n",
            "19    T  22495\n",
            "20    U  29008\n",
            "21    V   4182\n",
            "22    W  10784\n",
            "23    X   6272\n",
            "24    Y  10859\n",
            "25    Z   6076\n"
          ]
        },
        {
          "data": {
            "image/png": "[encoded data removed]",
            "text/plain": [
              "<Figure size 640x480 with 1 Axes>"
            ]
          },
          "metadata": {},
          "output_type": "display_data"
        }
      ],
      "source": [
        "# Değerlerin sayısını hesaplama\n",
        "value_counts = alfabet_labels.value_counts().sort_index().reset_index()\n",
        "value_counts.columns = ['Harf', 'Sayı']\n",
        "\n",
        "# Harf etiketlerini atama\n",
        "alfabet_name_labels = \"ABCDEFGHIJKLMNOPQRSTUVWXYZ\"\n",
        "value_counts['Harf'] = value_counts['Harf'].apply(lambda x: alfabet_name_labels[x])\n",
        "\n",
        "print(\"value counts\", value_counts)\n",
        "\n",
        "# Grafik oluşturma\n",
        "sns.barplot(x='Harf', y='Sayı', data=value_counts)\n",
        "plt.xlabel('Harf Numaraları')\n",
        "plt.ylabel('Sayı')\n",
        "plt.title('Veri seti içindeki harf dağılımı')\n",
        "plt.show()"
      ]
    },
    {
      "cell_type": "code",
      "execution_count": 16,
      "metadata": {},
      "outputs": [
        {
          "ename": "AttributeError",
          "evalue": "'numpy.ndarray' object has no attribute 'value_counts'",
          "output_type": "error",
          "traceback": [
            "\u001b[1;31m---------------------------------------------------------------------------\u001b[0m",
            "\u001b[1;31mAttributeError\u001b[0m                            Traceback (most recent call last)",
            "Cell \u001b[1;32mIn[16], line 2\u001b[0m\n\u001b[0;32m      1\u001b[0m \u001b[38;5;66;03m# Değerlerin sayısını hesaplama\u001b[39;00m\n\u001b[1;32m----> 2\u001b[0m value_counts \u001b[38;5;241m=\u001b[39m \u001b[43mdigits_labels\u001b[49m\u001b[38;5;241;43m.\u001b[39;49m\u001b[43mvalue_counts\u001b[49m()\u001b[38;5;241m.\u001b[39msort_index()\u001b[38;5;241m.\u001b[39mreset_index()\n\u001b[0;32m      3\u001b[0m value_counts\u001b[38;5;241m.\u001b[39mcolumns \u001b[38;5;241m=\u001b[39m [\u001b[38;5;124m'\u001b[39m\u001b[38;5;124mRakam\u001b[39m\u001b[38;5;124m'\u001b[39m, \u001b[38;5;124m'\u001b[39m\u001b[38;5;124mSayı\u001b[39m\u001b[38;5;124m'\u001b[39m]\n\u001b[0;32m      5\u001b[0m \u001b[38;5;66;03m# Harf etiketlerini atama\u001b[39;00m\n",
            "\u001b[1;31mAttributeError\u001b[0m: 'numpy.ndarray' object has no attribute 'value_counts'"
          ]
        }
      ],
      "source": [
        "# Değerlerin sayısını hesaplama\n",
        "value_counts = digits_labels.value_counts().sort_index().reset_index()\n",
        "value_counts.columns = ['Rakam', 'Sayı']\n",
        "\n",
        "# Harf etiketlerini atama\n",
        "digit_name_labels = \"ABCDEFGHIJKLMNOPQRSTUVWXYZ\"\n",
        "value_counts['Harf'] = value_counts['Harf'].apply(lambda x: digit_name_labels[x])\n",
        "\n",
        "print(\"value counts\", value_counts)\n",
        "\n",
        "# Grafik oluşturma\n",
        "sns.barplot(x='Harf', y='Sayı', data=value_counts)\n",
        "plt.xlabel('Harf Numaraları')\n",
        "plt.ylabel('Sayı')\n",
        "plt.title('Veri seti içindeki harf dağılımı')\n",
        "plt.show()"
      ]
    },
    {
      "cell_type": "code",
      "execution_count": 17,
      "metadata": {
        "colab": {
          "base_uri": "https://localhost:8080/"
        },
        "id": "-c8RxGcL9-2g",
        "outputId": "a650b501-c581-44b4-e504-82344b97972a"
      },
      "outputs": [
        {
          "data": {
            "text/plain": [
              "(372450, 28, 28)"
            ]
          },
          "execution_count": 17,
          "metadata": {},
          "output_type": "execute_result"
        }
      ],
      "source": [
        "alfabet_data.shape"
      ]
    },
    {
      "cell_type": "code",
      "execution_count": 18,
      "metadata": {
        "colab": {
          "base_uri": "https://localhost:8080/",
          "height": 469
        },
        "id": "yhZphXKm9-4w",
        "outputId": "d502c202-cd75-48fd-ad9d-fab6287c05a6"
      },
      "outputs": [
        {
          "data": {
            "text/plain": [
              "Text(0.5, 1.0, 'Class 3')"
            ]
          },
          "execution_count": 18,
          "metadata": {},
          "output_type": "execute_result"
        },
        {
          "data": {
            "image/png": "[encoded data removed]",
            "text/plain": [
              "<Figure size 640x480 with 1 Axes>"
            ]
          },
          "metadata": {},
          "output_type": "display_data"
        }
      ],
      "source": [
        "plt.imshow(alfabet_data[51512],cmap=\"gray\")\n",
        "plt.title(\"Class \"+str(alfabet_labels[51512]))  # 0->A, 1->B, 2->C..."
      ]
    },
    {
      "cell_type": "code",
      "execution_count": 19,
      "metadata": {},
      "outputs": [
        {
          "data": {
            "text/plain": [
              "(0          0\n",
              " 1          0\n",
              " 2          0\n",
              " 3          0\n",
              " 4          0\n",
              "           ..\n",
              " 372445    25\n",
              " 372446    25\n",
              " 372447    25\n",
              " 372448    25\n",
              " 372449    25\n",
              " Name: 0, Length: 372450, dtype: int64,\n",
              " array([ 0,  1,  2,  3,  4,  5,  6,  7,  8,  9, 10, 11, 12, 13, 14, 15, 16,\n",
              "        17, 18, 19, 20, 21, 22, 23, 24, 25], dtype=int64))"
            ]
          },
          "execution_count": 19,
          "metadata": {},
          "output_type": "execute_result"
        }
      ],
      "source": [
        "alfabet_labels, np.unique(alfabet_labels)"
      ]
    },
    {
      "cell_type": "code",
      "execution_count": 20,
      "metadata": {
        "id": "JS2IFA91Dmng"
      },
      "outputs": [],
      "source": [
        "alfabet_labels +=10 # to avoid conflicts "
      ]
    },
    {
      "cell_type": "code",
      "execution_count": 21,
      "metadata": {},
      "outputs": [
        {
          "data": {
            "text/plain": [
              "(372450,)"
            ]
          },
          "execution_count": 21,
          "metadata": {},
          "output_type": "execute_result"
        }
      ],
      "source": [
        "alfabet_labels.shape"
      ]
    },
    {
      "cell_type": "code",
      "execution_count": 22,
      "metadata": {},
      "outputs": [],
      "source": [
        "data = np.vstack([alfabet_data, digits_data])\n",
        "labels = np.hstack([alfabet_labels,digits_labels])"
      ]
    },
    {
      "cell_type": "code",
      "execution_count": 23,
      "metadata": {
        "id": "6jlX6C5xDmp6"
      },
      "outputs": [
        {
          "data": {
            "text/plain": [
              "((442450, 28, 28), (442450,))"
            ]
          },
          "execution_count": 23,
          "metadata": {},
          "output_type": "execute_result"
        }
      ],
      "source": [
        "data.shape, labels.shape"
      ]
    },
    {
      "cell_type": "code",
      "execution_count": 24,
      "metadata": {
        "id": "s54dijL3DmsI"
      },
      "outputs": [],
      "source": [
        "data = np.array(data, dtype='float32')"
      ]
    },
    {
      "cell_type": "code",
      "execution_count": 25,
      "metadata": {
        "id": "lumQhwSEDmuh"
      },
      "outputs": [
        {
          "data": {
            "text/plain": [
              "array([ 0,  1,  2,  3,  4,  5,  6,  7,  8,  9, 10, 11, 12, 13, 14, 15, 16,\n",
              "       17, 18, 19, 20, 21, 22, 23, 24, 25, 26, 27, 28, 29, 30, 31, 32, 33,\n",
              "       34, 35], dtype=int64)"
            ]
          },
          "execution_count": 25,
          "metadata": {},
          "output_type": "execute_result"
        }
      ],
      "source": [
        "np.unique(labels)   # (1-9) -> 0-9 , (10-25) -> A-Z"
      ]
    },
    {
      "cell_type": "code",
      "execution_count": 26,
      "metadata": {
        "id": "LoHomc2RDmw4"
      },
      "outputs": [],
      "source": [
        "data = np.expand_dims(data, axis= -1)"
      ]
    },
    {
      "cell_type": "code",
      "execution_count": 27,
      "metadata": {
        "id": "DxYD-nXlDmyq"
      },
      "outputs": [
        {
          "data": {
            "text/plain": [
              "(442450, 28, 28, 1)"
            ]
          },
          "execution_count": 27,
          "metadata": {},
          "output_type": "execute_result"
        }
      ],
      "source": [
        "data.shape"
      ]
    },
    {
      "cell_type": "markdown",
      "metadata": {},
      "source": [
        "Data Preprocessing"
      ]
    },
    {
      "cell_type": "code",
      "execution_count": 28,
      "metadata": {
        "id": "ioOrpOVyDm0g"
      },
      "outputs": [
        {
          "data": {
            "text/plain": [
              "(0.0, 255.0)"
            ]
          },
          "execution_count": 28,
          "metadata": {},
          "output_type": "execute_result"
        }
      ],
      "source": [
        "data[0].min(), data[0].max()"
      ]
    },
    {
      "cell_type": "code",
      "execution_count": 29,
      "metadata": {},
      "outputs": [],
      "source": [
        "data/=255# normalization"
      ]
    },
    {
      "cell_type": "code",
      "execution_count": 30,
      "metadata": {},
      "outputs": [
        {
          "data": {
            "text/plain": [
              "(array([ 0,  1,  2,  3,  4,  5,  6,  7,  8,  9, 10, 11, 12, 13, 14, 15, 16,\n",
              "        17, 18, 19, 20, 21, 22, 23, 24, 25, 26, 27, 28, 29, 30, 31, 32, 33,\n",
              "        34, 35], dtype=int64),\n",
              " 36)"
            ]
          },
          "execution_count": 30,
          "metadata": {},
          "output_type": "execute_result"
        }
      ],
      "source": [
        "np.unique(labels), len(np.unique(labels)) # there will be 36 output classes at the end"
      ]
    },
    {
      "cell_type": "code",
      "execution_count": 31,
      "metadata": {},
      "outputs": [],
      "source": [
        "le = LabelBinarizer()\n",
        "labels = le.fit_transform(labels)  # ONE - HOT Encoder   A B C \n",
        "                                                       # 0 0 1"
      ]
    },
    {
      "cell_type": "code",
      "execution_count": 32,
      "metadata": {},
      "outputs": [
        {
          "data": {
            "text/plain": [
              "array([0, 1])"
            ]
          },
          "execution_count": 32,
          "metadata": {},
          "output_type": "execute_result"
        }
      ],
      "source": [
        "np.unique(labels)"
      ]
    },
    {
      "cell_type": "code",
      "execution_count": 33,
      "metadata": {},
      "outputs": [
        {
          "data": {
            "text/plain": [
              "array([0, 0, 0, 0, 0, 0, 0, 0, 0, 0, 1, 0, 0, 0, 0, 0, 0, 0, 0, 0, 0, 0,\n",
              "       0, 0, 0, 0, 0, 0, 0, 0, 0, 0, 0, 0, 0, 0])"
            ]
          },
          "execution_count": 33,
          "metadata": {},
          "output_type": "execute_result"
        }
      ],
      "source": [
        "labels[0] "
      ]
    },
    {
      "cell_type": "code",
      "execution_count": 34,
      "metadata": {},
      "outputs": [
        {
          "data": {
            "text/plain": [
              "Text(0.5, 1.0, '[0 0 0 0 0 0 0 0 0 0 0 0 1 0 0 0 0 0 0 0 0 0 0 0 0 0 0 0 0 0 0 0 0 0 0 0]')"
            ]
          },
          "execution_count": 34,
          "metadata": {},
          "output_type": "execute_result"
        },
        {
          "data": {
            "image/png": "[encoded data removed]",
            "text/plain": [
              "<Figure size 640x480 with 1 Axes>"
            ]
          },
          "metadata": {},
          "output_type": "display_data"
        }
      ],
      "source": [
        "plt.imshow(data[40000],cmap='gray')\n",
        "plt.title(labels[40000])"
      ]
    },
    {
      "cell_type": "code",
      "execution_count": 35,
      "metadata": {},
      "outputs": [],
      "source": [
        "classes_total = labels.sum(0)"
      ]
    },
    {
      "cell_type": "code",
      "execution_count": 36,
      "metadata": {},
      "outputs": [
        {
          "data": {
            "text/plain": [
              "(36,)"
            ]
          },
          "execution_count": 36,
          "metadata": {},
          "output_type": "execute_result"
        }
      ],
      "source": [
        "classes_total.shape"
      ]
    },
    {
      "cell_type": "code",
      "execution_count": 37,
      "metadata": {},
      "outputs": [
        {
          "data": {
            "text/plain": [
              "array([ 6903,  7877,  6990,  7141,  6824,  6313,  6876,  7293,  6825,\n",
              "        6958, 13869,  8668, 23409, 10134, 11440,  1163,  5762,  7218,\n",
              "        1120,  8493,  5603, 11586, 12336, 19010, 57825, 19341,  5812,\n",
              "       11566, 48419, 22495, 29008,  4182, 10784,  6272, 10859,  6076])"
            ]
          },
          "execution_count": 37,
          "metadata": {},
          "output_type": "execute_result"
        }
      ],
      "source": [
        "classes_total"
      ]
    },
    {
      "cell_type": "code",
      "execution_count": 38,
      "metadata": {},
      "outputs": [
        {
          "data": {
            "text/plain": [
              "57825"
            ]
          },
          "execution_count": 38,
          "metadata": {},
          "output_type": "execute_result"
        }
      ],
      "source": [
        "classes_total.max()"
      ]
    },
    {
      "cell_type": "code",
      "execution_count": 39,
      "metadata": {},
      "outputs": [],
      "source": [
        "classes_weights = {}\n",
        "for i in range(0 , len(classes_total)):\n",
        "    classes_weights[i]= classes_total.max()/classes_total[i]"
      ]
    },
    {
      "cell_type": "code",
      "execution_count": 40,
      "metadata": {},
      "outputs": [
        {
          "data": {
            "text/plain": [
              "{0: 8.376792698826597,\n",
              " 1: 7.340992763742541,\n",
              " 2: 8.272532188841202,\n",
              " 3: 8.097605377398123,\n",
              " 4: 8.473769050410317,\n",
              " 5: 9.15967052114684,\n",
              " 6: 8.409685863874346,\n",
              " 7: 7.928835870012341,\n",
              " 8: 8.472527472527473,\n",
              " 9: 8.310577752227651,\n",
              " 10: 4.169370538611291,\n",
              " 11: 6.671089063221043,\n",
              " 12: 2.4702037677816224,\n",
              " 13: 5.7060390763765545,\n",
              " 14: 5.0546328671328675,\n",
              " 15: 49.72055030094583,\n",
              " 16: 10.035577924331829,\n",
              " 17: 8.011221945137157,\n",
              " 18: 51.629464285714285,\n",
              " 19: 6.808548216178029,\n",
              " 20: 10.320364090665715,\n",
              " 21: 4.990937338166753,\n",
              " 22: 4.6875,\n",
              " 23: 3.0418200946870066,\n",
              " 24: 1.0,\n",
              " 25: 2.989762680316426,\n",
              " 26: 9.94924294562973,\n",
              " 27: 4.999567698426422,\n",
              " 28: 1.1942625828703608,\n",
              " 29: 2.5705712380529007,\n",
              " 30: 1.993415609487038,\n",
              " 31: 13.827116212338593,\n",
              " 32: 5.362110534124629,\n",
              " 33: 9.21954719387755,\n",
              " 34: 5.3250759738465785,\n",
              " 35: 9.51695194206715}"
            ]
          },
          "execution_count": 40,
          "metadata": {},
          "output_type": "execute_result"
        }
      ],
      "source": [
        "classes_weights"
      ]
    },
    {
      "cell_type": "code",
      "execution_count": 41,
      "metadata": {},
      "outputs": [],
      "source": [
        "X_train , X_test , y_train , y_test = train_test_split(data,labels,test_size=0.2,random_state=1,stratify=labels)"
      ]
    },
    {
      "cell_type": "code",
      "execution_count": 42,
      "metadata": {},
      "outputs": [
        {
          "data": {
            "text/plain": [
              "((353960, 28, 28, 1), (88490, 28, 28, 1))"
            ]
          },
          "execution_count": 42,
          "metadata": {},
          "output_type": "execute_result"
        }
      ],
      "source": [
        "X_train.shape , X_test.shape"
      ]
    },
    {
      "cell_type": "code",
      "execution_count": 43,
      "metadata": {},
      "outputs": [
        {
          "data": {
            "text/plain": [
              "((353960, 36), (88490, 36))"
            ]
          },
          "execution_count": 43,
          "metadata": {},
          "output_type": "execute_result"
        }
      ],
      "source": [
        "y_train.shape, y_test.shape"
      ]
    },
    {
      "cell_type": "code",
      "execution_count": 44,
      "metadata": {},
      "outputs": [],
      "source": [
        "from tensorflow.keras.preprocessing.image import ImageDataGenerator"
      ]
    },
    {
      "cell_type": "code",
      "execution_count": 45,
      "metadata": {},
      "outputs": [],
      "source": [
        "augmentation = ImageDataGenerator(rotation_range=10,zoom_range=0.05,width_shift_range=0.1,height_shift_range=0.1,horizontal_flip=False)"
      ]
    },
    {
      "cell_type": "markdown",
      "metadata": {},
      "source": [
        "Build the Neural Network"
      ]
    },
    {
      "cell_type": "code",
      "execution_count": 46,
      "metadata": {},
      "outputs": [],
      "source": [
        "from tensorflow.keras.models import Sequential\n",
        "from tensorflow.keras.layers import Conv2D , MaxPool2D, Flatten, Dense\n",
        "from tensorflow.keras.callbacks import ModelCheckpoint\n"
      ]
    },
    {
      "cell_type": "code",
      "execution_count": 114,
      "metadata": {},
      "outputs": [],
      "source": [
        "network = Sequential()\n",
        "network.add(Conv2D(filters=32,kernel_size=(3,3),activation='relu',input_shape=(28,28,1)))\n",
        "network.add(MaxPool2D(pool_size=(2,2)))\n",
        "\n",
        "network.add(Conv2D(filters=64,kernel_size=(3,3),activation='relu',padding='same'))\n",
        "network.add(MaxPool2D(pool_size=(2,2)))\n",
        "\n",
        "network.add(Conv2D(filters=128,kernel_size=(3,3),activation='relu',padding='same'))\n",
        "network.add(MaxPool2D(pool_size=(2,2)))\n",
        "\n",
        "network.add(Flatten())\n",
        "\n",
        "network.add(Dense(64,activation='relu'))\n",
        "network.add(Dense(128,activation='relu'))  # dense is fully-connected layer\n",
        "\n",
        "network.add(Dense(36,activation='softmax'))\n",
        "\n",
        "network.compile(loss='categorical_crossentropy',optimizer='adam',metrics=['accuracy'])"
      ]
    },
    {
      "cell_type": "code",
      "execution_count": 115,
      "metadata": {},
      "outputs": [
        {
          "name": "stdout",
          "output_type": "stream",
          "text": [
            "Model: \"sequential_1\"\n",
            "_________________________________________________________________\n",
            " Layer (type)                Output Shape              Param #   \n",
            "=================================================================\n",
            " conv2d_3 (Conv2D)           (None, 26, 26, 32)        320       \n",
            "                                                                 \n",
            " max_pooling2d_3 (MaxPooling  (None, 13, 13, 32)       0         \n",
            " 2D)                                                             \n",
            "                                                                 \n",
            " conv2d_4 (Conv2D)           (None, 13, 13, 64)        18496     \n",
            "                                                                 \n",
            " max_pooling2d_4 (MaxPooling  (None, 6, 6, 64)         0         \n",
            " 2D)                                                             \n",
            "                                                                 \n",
            " conv2d_5 (Conv2D)           (None, 6, 6, 128)         73856     \n",
            "                                                                 \n",
            " max_pooling2d_5 (MaxPooling  (None, 3, 3, 128)        0         \n",
            " 2D)                                                             \n",
            "                                                                 \n",
            " flatten_1 (Flatten)         (None, 1152)              0         \n",
            "                                                                 \n",
            " dense_3 (Dense)             (None, 64)                73792     \n",
            "                                                                 \n",
            " dense_4 (Dense)             (None, 128)               8320      \n",
            "                                                                 \n",
            " dense_5 (Dense)             (None, 36)                4644      \n",
            "                                                                 \n",
            "=================================================================\n",
            "Total params: 179,428\n",
            "Trainable params: 179,428\n",
            "Non-trainable params: 0\n",
            "_________________________________________________________________\n"
          ]
        }
      ],
      "source": [
        "network.summary()"
      ]
    },
    {
      "cell_type": "code",
      "execution_count": 47,
      "metadata": {},
      "outputs": [],
      "source": [
        "name_labels = '0123456789'\n",
        "name_labels+=\"ABCDEFGHIJKLMNOPQRSTUVWXYZ\"\n",
        "name_labels = [l  for l in name_labels]"
      ]
    },
    {
      "cell_type": "code",
      "execution_count": 35,
      "metadata": {},
      "outputs": [
        {
          "name": "stdout",
          "output_type": "stream",
          "text": [
            "['0', '1', '2', '3', '4', '5', '6', '7', '8', '9', 'A', 'B', 'C', 'D', 'E', 'F', 'G', 'H', 'I', 'J', 'K', 'L', 'M', 'N', 'O', 'P', 'Q', 'R', 'S', 'T', 'U', 'V', 'W', 'X', 'Y', 'Z']\n"
          ]
        }
      ],
      "source": [
        "print(name_labels)"
      ]
    },
    {
      "cell_type": "markdown",
      "metadata": {},
      "source": [
        "TRAIN THE NETWORK"
      ]
    },
    {
      "cell_type": "code",
      "execution_count": 52,
      "metadata": {},
      "outputs": [],
      "source": [
        "file_model = 'custom_ocr.model'\n",
        "epochs = 20\n",
        "batch_size = 128\n"
      ]
    },
    {
      "cell_type": "code",
      "execution_count": 119,
      "metadata": {},
      "outputs": [],
      "source": [
        "checkpointer= ModelCheckpoint(file_model,monitor='val_loss',verbose=1,save_best_only=True)"
      ]
    },
    {
      "cell_type": "code",
      "execution_count": 120,
      "metadata": {},
      "outputs": [
        {
          "name": "stdout",
          "output_type": "stream",
          "text": [
            "Epoch 1/20\n",
            "2763/2765 [============================>.] - ETA: 0s - loss: 2.0668 - accuracy: 0.8322\n",
            "Epoch 1: val_loss improved from inf to 0.28479, saving model to custom_ocr.model\n",
            "INFO:tensorflow:Assets written to: custom_ocr.model\\assets\n",
            "2765/2765 [==============================] - 83s 29ms/step - loss: 2.0661 - accuracy: 0.8322 - val_loss: 0.2848 - val_accuracy: 0.8702\n",
            "Epoch 2/20\n",
            "2765/2765 [==============================] - ETA: 0s - loss: 0.9312 - accuracy: 0.9033\n",
            "Epoch 2: val_loss improved from 0.28479 to 0.26137, saving model to custom_ocr.model\n",
            "INFO:tensorflow:Assets written to: custom_ocr.model\\assets\n",
            "2765/2765 [==============================] - 83s 30ms/step - loss: 0.9312 - accuracy: 0.9033 - val_loss: 0.2614 - val_accuracy: 0.8830\n",
            "Epoch 3/20\n",
            "2765/2765 [==============================] - ETA: 0s - loss: 0.7965 - accuracy: 0.9131\n",
            "Epoch 3: val_loss improved from 0.26137 to 0.19635, saving model to custom_ocr.model\n",
            "INFO:tensorflow:Assets written to: custom_ocr.model\\assets\n",
            "2765/2765 [==============================] - 80s 29ms/step - loss: 0.7965 - accuracy: 0.9131 - val_loss: 0.1964 - val_accuracy: 0.9246\n",
            "Epoch 4/20\n",
            "2765/2765 [==============================] - ETA: 0s - loss: 0.7138 - accuracy: 0.9208\n",
            "Epoch 4: val_loss improved from 0.19635 to 0.19550, saving model to custom_ocr.model\n",
            "INFO:tensorflow:Assets written to: custom_ocr.model\\assets\n",
            "2765/2765 [==============================] - 80s 29ms/step - loss: 0.7138 - accuracy: 0.9208 - val_loss: 0.1955 - val_accuracy: 0.9284\n",
            "Epoch 5/20\n",
            "2765/2765 [==============================] - ETA: 0s - loss: 0.6607 - accuracy: 0.9259\n",
            "Epoch 5: val_loss did not improve from 0.19550\n",
            "2765/2765 [==============================] - 84s 30ms/step - loss: 0.6607 - accuracy: 0.9259 - val_loss: 0.2170 - val_accuracy: 0.9086\n",
            "Epoch 6/20\n",
            "2764/2765 [============================>.] - ETA: 0s - loss: 0.6074 - accuracy: 0.9313\n",
            "Epoch 6: val_loss did not improve from 0.19550\n",
            "2765/2765 [==============================] - 80s 29ms/step - loss: 0.6074 - accuracy: 0.9313 - val_loss: 0.2524 - val_accuracy: 0.8998\n",
            "Epoch 7/20\n",
            "2765/2765 [==============================] - ETA: 0s - loss: 0.5869 - accuracy: 0.9338\n",
            "Epoch 7: val_loss did not improve from 0.19550\n",
            "2765/2765 [==============================] - 81s 29ms/step - loss: 0.5869 - accuracy: 0.9338 - val_loss: 0.2817 - val_accuracy: 0.8861\n",
            "Epoch 8/20\n",
            "2764/2765 [============================>.] - ETA: 0s - loss: 0.5519 - accuracy: 0.9362\n",
            "Epoch 8: val_loss did not improve from 0.19550\n",
            "2765/2765 [==============================] - 83s 30ms/step - loss: 0.5518 - accuracy: 0.9362 - val_loss: 0.2740 - val_accuracy: 0.8887\n",
            "Epoch 9/20\n",
            "2764/2765 [============================>.] - ETA: 0s - loss: 0.5353 - accuracy: 0.9379\n",
            "Epoch 9: val_loss did not improve from 0.19550\n",
            "2765/2765 [==============================] - 80s 29ms/step - loss: 0.5352 - accuracy: 0.9379 - val_loss: 0.2330 - val_accuracy: 0.9067\n",
            "Epoch 10/20\n",
            "2763/2765 [============================>.] - ETA: 0s - loss: 0.5055 - accuracy: 0.9403\n",
            "Epoch 10: val_loss did not improve from 0.19550\n",
            "2765/2765 [==============================] - 79s 29ms/step - loss: 0.5055 - accuracy: 0.9403 - val_loss: 0.2382 - val_accuracy: 0.9002\n",
            "Epoch 11/20\n",
            "2764/2765 [============================>.] - ETA: 0s - loss: 0.4866 - accuracy: 0.9410\n",
            "Epoch 11: val_loss did not improve from 0.19550\n",
            "2765/2765 [==============================] - 95s 35ms/step - loss: 0.4865 - accuracy: 0.9410 - val_loss: 0.2155 - val_accuracy: 0.9066\n",
            "Epoch 12/20\n",
            "2764/2765 [============================>.] - ETA: 0s - loss: 0.4865 - accuracy: 0.9414\n",
            "Epoch 12: val_loss did not improve from 0.19550\n",
            "2765/2765 [==============================] - 97s 35ms/step - loss: 0.4864 - accuracy: 0.9414 - val_loss: 0.3085 - val_accuracy: 0.8695\n",
            "Epoch 13/20\n",
            "2765/2765 [==============================] - ETA: 0s - loss: 0.4795 - accuracy: 0.9426\n",
            "Epoch 13: val_loss did not improve from 0.19550\n",
            "2765/2765 [==============================] - 86s 31ms/step - loss: 0.4795 - accuracy: 0.9426 - val_loss: 0.2111 - val_accuracy: 0.9098\n",
            "Epoch 14/20\n",
            "2764/2765 [============================>.] - ETA: 0s - loss: 0.4561 - accuracy: 0.9448\n",
            "Epoch 14: val_loss did not improve from 0.19550\n",
            "2765/2765 [==============================] - 84s 30ms/step - loss: 0.4562 - accuracy: 0.9448 - val_loss: 0.2129 - val_accuracy: 0.9052\n",
            "Epoch 15/20\n",
            "2764/2765 [============================>.] - ETA: 0s - loss: 0.4541 - accuracy: 0.9457\n",
            "Epoch 15: val_loss did not improve from 0.19550\n",
            "2765/2765 [==============================] - 87s 31ms/step - loss: 0.4540 - accuracy: 0.9457 - val_loss: 0.2298 - val_accuracy: 0.9007\n",
            "Epoch 16/20\n",
            "2764/2765 [============================>.] - ETA: 0s - loss: 0.4436 - accuracy: 0.9466\n",
            "Epoch 16: val_loss did not improve from 0.19550\n",
            "2765/2765 [==============================] - 81s 29ms/step - loss: 0.4437 - accuracy: 0.9466 - val_loss: 0.2480 - val_accuracy: 0.8927\n",
            "Epoch 17/20\n",
            "2765/2765 [==============================] - ETA: 0s - loss: 0.4254 - accuracy: 0.9481\n",
            "Epoch 17: val_loss improved from 0.19550 to 0.19074, saving model to custom_ocr.model\n",
            "INFO:tensorflow:Assets written to: custom_ocr.model\\assets\n",
            "2765/2765 [==============================] - 81s 29ms/step - loss: 0.4254 - accuracy: 0.9481 - val_loss: 0.1907 - val_accuracy: 0.9315\n",
            "Epoch 18/20\n",
            "2765/2765 [==============================] - ETA: 0s - loss: 0.4219 - accuracy: 0.9475\n",
            "Epoch 18: val_loss improved from 0.19074 to 0.16421, saving model to custom_ocr.model\n",
            "INFO:tensorflow:Assets written to: custom_ocr.model\\assets\n",
            "2765/2765 [==============================] - 79s 29ms/step - loss: 0.4219 - accuracy: 0.9475 - val_loss: 0.1642 - val_accuracy: 0.9379\n",
            "Epoch 19/20\n",
            "2765/2765 [==============================] - ETA: 0s - loss: 0.4205 - accuracy: 0.9486\n",
            "Epoch 19: val_loss did not improve from 0.16421\n",
            "2765/2765 [==============================] - 80s 29ms/step - loss: 0.4205 - accuracy: 0.9486 - val_loss: 0.1861 - val_accuracy: 0.9315\n",
            "Epoch 20/20\n",
            "2765/2765 [==============================] - ETA: 0s - loss: 0.4102 - accuracy: 0.9488\n",
            "Epoch 20: val_loss did not improve from 0.16421\n",
            "2765/2765 [==============================] - 81s 29ms/step - loss: 0.4102 - accuracy: 0.9488 - val_loss: 0.1720 - val_accuracy: 0.9407\n"
          ]
        }
      ],
      "source": [
        "\"\"\"history= network.fit(augmentation.flow(X_train,y_train,batch_size=batch_size),\n",
        "                                       validation_data=(X_test,y_test),\n",
        "                                       steps_per_epoch=len(X_train)//batch_size,epochs=epochs,\n",
        "                                       class_weight=classes_weights,verbose=1,callbacks = [checkpointer])\"\"\""
      ]
    },
    {
      "cell_type": "code",
      "execution_count": 121,
      "metadata": {},
      "outputs": [
        {
          "name": "stdout",
          "output_type": "stream",
          "text": [
            "TensorFlow version: 2.8.0\n",
            "Num GPUs Available:  1\n"
          ]
        }
      ],
      "source": [
        "import tensorflow as tf\n",
        "print(\"TensorFlow version:\", tf.__version__)\n",
        "print(\"Num GPUs Available: \", len(tf.config.list_physical_devices('GPU')))"
      ]
    },
    {
      "cell_type": "code",
      "execution_count": 122,
      "metadata": {},
      "outputs": [
        {
          "data": {
            "text/plain": [
              "(88490, 28, 28, 1)"
            ]
          },
          "execution_count": 122,
          "metadata": {},
          "output_type": "execute_result"
        }
      ],
      "source": [
        "X_test.shape"
      ]
    },
    {
      "cell_type": "code",
      "execution_count": 123,
      "metadata": {},
      "outputs": [
        {
          "data": {
            "text/plain": [
              "True"
            ]
          },
          "execution_count": 123,
          "metadata": {},
          "output_type": "execute_result"
        }
      ],
      "source": [
        "import tensorflow as tf\n",
        "tf.test.is_built_with_cuda()"
      ]
    },
    {
      "cell_type": "code",
      "execution_count": 124,
      "metadata": {},
      "outputs": [],
      "source": [
        "predictions = network.predict(X_test,batch_size=batch_size)"
      ]
    },
    {
      "cell_type": "code",
      "execution_count": 125,
      "metadata": {},
      "outputs": [
        {
          "data": {
            "text/plain": [
              "array([[2.4698822e-01, 9.7707364e-10, 7.8954542e-07, ..., 3.7858023e-15,\n",
              "        2.8622401e-07, 4.4068083e-09],\n",
              "       [7.7788091e-24, 1.7173980e-08, 2.4253920e-11, ..., 6.0436871e-11,\n",
              "        4.2585527e-12, 2.6114527e-11],\n",
              "       [1.8537835e-13, 4.9446757e-21, 2.1573826e-16, ..., 3.0238876e-14,\n",
              "        5.8202304e-14, 6.0906053e-19],\n",
              "       ...,\n",
              "       [3.6439857e-01, 3.0340804e-13, 1.8928179e-07, ..., 3.9388726e-17,\n",
              "        9.4008740e-08, 1.8161895e-08],\n",
              "       [6.0762594e-20, 8.0358853e-12, 1.4313593e-09, ..., 9.9970812e-01,\n",
              "        8.0771379e-06, 1.0692083e-09],\n",
              "       [5.3518605e-08, 1.3159221e-12, 5.7009387e-08, ..., 1.3444439e-26,\n",
              "        6.7222556e-12, 7.7057893e-10]], dtype=float32)"
            ]
          },
          "execution_count": 125,
          "metadata": {},
          "output_type": "execute_result"
        }
      ],
      "source": [
        "predictions"
      ]
    },
    {
      "cell_type": "code",
      "execution_count": 126,
      "metadata": {},
      "outputs": [
        {
          "data": {
            "text/plain": [
              "array([2.4698822e-01, 9.7707364e-10, 7.8954542e-07, 5.0296961e-07,\n",
              "       3.3801930e-11, 6.4658991e-07, 3.8489598e-06, 4.9469481e-08,\n",
              "       1.1483679e-06, 1.3569467e-05, 3.2645343e-07, 4.9380492e-06,\n",
              "       1.4325914e-05, 3.1968316e-03, 8.7152934e-09, 3.1574315e-14,\n",
              "       3.7896339e-06, 1.0440005e-10, 1.1823544e-16, 1.8289238e-05,\n",
              "       3.8297911e-12, 2.6867746e-11, 4.0150191e-08, 9.6814993e-06,\n",
              "       7.4037313e-01, 3.9924169e-05, 9.2858057e-03, 8.0308489e-09,\n",
              "       1.6084539e-05, 1.1198431e-06, 2.6696445e-05, 1.0892147e-09,\n",
              "       4.9028927e-08, 3.7858023e-15, 2.8622401e-07, 4.4068083e-09],\n",
              "      dtype=float32)"
            ]
          },
          "execution_count": 126,
          "metadata": {},
          "output_type": "execute_result"
        }
      ],
      "source": [
        "predictions[0]"
      ]
    },
    {
      "cell_type": "code",
      "execution_count": 127,
      "metadata": {},
      "outputs": [
        {
          "data": {
            "text/plain": [
              "28"
            ]
          },
          "execution_count": 127,
          "metadata": {},
          "output_type": "execute_result"
        }
      ],
      "source": [
        "np.argmax(predictions[23])"
      ]
    },
    {
      "cell_type": "code",
      "execution_count": 128,
      "metadata": {},
      "outputs": [
        {
          "data": {
            "text/plain": [
              "'N'"
            ]
          },
          "execution_count": 128,
          "metadata": {},
          "output_type": "execute_result"
        }
      ],
      "source": [
        "name_labels[23]"
      ]
    },
    {
      "cell_type": "code",
      "execution_count": 129,
      "metadata": {},
      "outputs": [
        {
          "data": {
            "text/plain": [
              "array([0, 0, 0, 0, 0, 0, 0, 0, 0, 0, 0, 0, 0, 0, 0, 0, 0, 0, 0, 0, 0, 0,\n",
              "       0, 0, 0, 0, 0, 0, 1, 0, 0, 0, 0, 0, 0, 0])"
            ]
          },
          "execution_count": 129,
          "metadata": {},
          "output_type": "execute_result"
        }
      ],
      "source": [
        "y_test[23]"
      ]
    },
    {
      "cell_type": "code",
      "execution_count": 130,
      "metadata": {},
      "outputs": [
        {
          "data": {
            "text/plain": [
              "28"
            ]
          },
          "execution_count": 130,
          "metadata": {},
          "output_type": "execute_result"
        }
      ],
      "source": [
        "np.argmax(y_test[23])"
      ]
    },
    {
      "cell_type": "code",
      "execution_count": 131,
      "metadata": {},
      "outputs": [
        {
          "name": "stdout",
          "output_type": "stream",
          "text": [
            "   1/2766 [..............................] - ETA: 1:04 - loss: 0.0900 - accuracy: 0.9688"
          ]
        },
        {
          "name": "stdout",
          "output_type": "stream",
          "text": [
            "2766/2766 [==============================] - 9s 3ms/step - loss: 0.1720 - accuracy: 0.9407\n"
          ]
        },
        {
          "data": {
            "text/plain": [
              "[0.17198942601680756, 0.940739095211029]"
            ]
          },
          "execution_count": 131,
          "metadata": {},
          "output_type": "execute_result"
        }
      ],
      "source": [
        "network.evaluate(X_test,y_test)"
      ]
    },
    {
      "cell_type": "code",
      "execution_count": 132,
      "metadata": {},
      "outputs": [
        {
          "name": "stdout",
          "output_type": "stream",
          "text": [
            "              precision    recall  f1-score   support\n",
            "\n",
            "           0       0.36      0.79      0.49      1381\n",
            "           1       0.98      0.98      0.98      1575\n",
            "           2       0.78      0.99      0.87      1398\n",
            "           3       0.91      0.99      0.95      1428\n",
            "           4       0.94      0.95      0.94      1365\n",
            "           5       0.57      0.96      0.72      1263\n",
            "           6       0.94      0.99      0.96      1375\n",
            "           7       0.96      0.98      0.97      1459\n",
            "           8       0.88      0.99      0.94      1365\n",
            "           9       0.96      0.97      0.97      1392\n",
            "           A       0.99      0.99      0.99      2774\n",
            "           B       0.98      0.97      0.97      1734\n",
            "           C       0.99      0.98      0.99      4682\n",
            "           D       0.87      0.97      0.92      2027\n",
            "           E       0.99      0.98      0.99      2288\n",
            "           F       0.97      0.99      0.98       233\n",
            "           G       0.95      0.95      0.95      1152\n",
            "           H       0.99      0.96      0.97      1444\n",
            "           I       0.97      0.99      0.98       224\n",
            "           J       0.96      0.95      0.96      1698\n",
            "           K       0.97      0.99      0.98      1121\n",
            "           L       0.99      0.96      0.97      2317\n",
            "           M       0.99      0.99      0.99      2467\n",
            "           N       0.99      0.98      0.99      3802\n",
            "           O       0.97      0.81      0.88     11565\n",
            "           P       1.00      0.98      0.99      3868\n",
            "           Q       0.91      0.98      0.95      1162\n",
            "           R       0.99      0.98      0.98      2313\n",
            "           S       0.99      0.89      0.94      9684\n",
            "           T       1.00      0.98      0.99      4499\n",
            "           U       0.99      0.97      0.98      5801\n",
            "           V       0.97      1.00      0.98       836\n",
            "           W       0.99      0.99      0.99      2157\n",
            "           X       0.97      0.99      0.98      1254\n",
            "           Y       0.98      0.94      0.96      2172\n",
            "           Z       0.97      0.85      0.91      1215\n",
            "\n",
            "    accuracy                           0.94     88490\n",
            "   macro avg       0.93      0.96      0.94     88490\n",
            "weighted avg       0.96      0.94      0.95     88490\n",
            "\n"
          ]
        }
      ],
      "source": [
        "print(classification_report(y_test.argmax(axis=1),predictions.argmax(axis=1),target_names=name_labels))"
      ]
    },
    {
      "cell_type": "code",
      "execution_count": 133,
      "metadata": {},
      "outputs": [
        {
          "data": {
            "text/plain": [
              "dict_keys(['loss', 'accuracy', 'val_loss', 'val_accuracy'])"
            ]
          },
          "execution_count": 133,
          "metadata": {},
          "output_type": "execute_result"
        }
      ],
      "source": [
        "history.history.keys()"
      ]
    },
    {
      "cell_type": "code",
      "execution_count": 134,
      "metadata": {},
      "outputs": [
        {
          "data": {
            "text/plain": [
              "[<matplotlib.lines.Line2D at 0x287203811f0>]"
            ]
          },
          "execution_count": 134,
          "metadata": {},
          "output_type": "execute_result"
        },
        {
          "data": {
            "image/png": "[encoded data removed]",
            "text/plain": [
              "<Figure size 640x480 with 1 Axes>"
            ]
          },
          "metadata": {},
          "output_type": "display_data"
        }
      ],
      "source": [
        "plt.plot(history.history[\"val_loss\"])"
      ]
    },
    {
      "cell_type": "code",
      "execution_count": 135,
      "metadata": {},
      "outputs": [
        {
          "data": {
            "text/plain": [
              "[<matplotlib.lines.Line2D at 0x286e67de6d0>]"
            ]
          },
          "execution_count": 135,
          "metadata": {},
          "output_type": "execute_result"
        },
        {
          "data": {
            "image/png": "[encoded data removed]",
            "text/plain": [
              "<Figure size 640x480 with 1 Axes>"
            ]
          },
          "metadata": {},
          "output_type": "display_data"
        }
      ],
      "source": [
        "plt.plot(history.history[\"val_accuracy\"])"
      ]
    },
    {
      "cell_type": "markdown",
      "metadata": {},
      "source": [
        "SAVING THE MODEL"
      ]
    },
    {
      "cell_type": "code",
      "execution_count": 136,
      "metadata": {},
      "outputs": [],
      "source": [
        "network.save(\"network\",save_format = \"h5\")\n",
        "#network.save(\"network\",save_format = \"tf\")"
      ]
    },
    {
      "cell_type": "markdown",
      "metadata": {},
      "source": [
        "TESTING THE MODEL"
      ]
    },
    {
      "cell_type": "code",
      "execution_count": 49,
      "metadata": {},
      "outputs": [],
      "source": [
        "from tensorflow.keras.models import load_model"
      ]
    },
    {
      "cell_type": "code",
      "execution_count": 50,
      "metadata": {},
      "outputs": [],
      "source": [
        "loaded_model = load_model(r\"C:\\Users\\Enes\\Desktop\\OCR\\network\")"
      ]
    },
    {
      "cell_type": "code",
      "execution_count": 5,
      "metadata": {},
      "outputs": [
        {
          "name": "stdout",
          "output_type": "stream",
          "text": [
            "Model: \"sequential_1\"\n",
            "_________________________________________________________________\n",
            " Layer (type)                Output Shape              Param #   \n",
            "=================================================================\n",
            " conv2d_3 (Conv2D)           (None, 26, 26, 32)        320       \n",
            "                                                                 \n",
            " max_pooling2d_3 (MaxPooling  (None, 13, 13, 32)       0         \n",
            " 2D)                                                             \n",
            "                                                                 \n",
            " conv2d_4 (Conv2D)           (None, 13, 13, 64)        18496     \n",
            "                                                                 \n",
            " max_pooling2d_4 (MaxPooling  (None, 6, 6, 64)         0         \n",
            " 2D)                                                             \n",
            "                                                                 \n",
            " conv2d_5 (Conv2D)           (None, 6, 6, 128)         73856     \n",
            "                                                                 \n",
            " max_pooling2d_5 (MaxPooling  (None, 3, 3, 128)        0         \n",
            " 2D)                                                             \n",
            "                                                                 \n",
            " flatten_1 (Flatten)         (None, 1152)              0         \n",
            "                                                                 \n",
            " dense_3 (Dense)             (None, 64)                73792     \n",
            "                                                                 \n",
            " dense_4 (Dense)             (None, 128)               8320      \n",
            "                                                                 \n",
            " dense_5 (Dense)             (None, 36)                4644      \n",
            "                                                                 \n",
            "=================================================================\n",
            "Total params: 179,428\n",
            "Trainable params: 179,428\n",
            "Non-trainable params: 0\n",
            "_________________________________________________________________\n"
          ]
        }
      ],
      "source": [
        "loaded_model.summary()"
      ]
    },
    {
      "cell_type": "code",
      "execution_count": 75,
      "metadata": {},
      "outputs": [
        {
          "data": {
            "text/plain": [
              "-1"
            ]
          },
          "execution_count": 75,
          "metadata": {},
          "output_type": "execute_result"
        }
      ],
      "source": [
        "import cv2\n",
        "img = cv2.imread(r\"C:\\Users\\Enes\\Desktop\\OCR\\x.png\")\n",
        "cv2.imshow(\"image\",img)\n",
        "cv2.waitKey()"
      ]
    },
    {
      "cell_type": "code",
      "execution_count": 76,
      "metadata": {},
      "outputs": [
        {
          "data": {
            "text/plain": [
              "(129, 99, 3)"
            ]
          },
          "execution_count": 76,
          "metadata": {},
          "output_type": "execute_result"
        }
      ],
      "source": [
        "img.shape"
      ]
    },
    {
      "cell_type": "code",
      "execution_count": 77,
      "metadata": {},
      "outputs": [
        {
          "data": {
            "text/plain": [
              "(129, 99)"
            ]
          },
          "execution_count": 77,
          "metadata": {},
          "output_type": "execute_result"
        }
      ],
      "source": [
        "gray= cv2.cvtColor(img,cv2.COLOR_BGR2GRAY)\n",
        "gray.shape"
      ]
    },
    {
      "cell_type": "code",
      "execution_count": 78,
      "metadata": {},
      "outputs": [
        {
          "data": {
            "text/plain": [
              "-1"
            ]
          },
          "execution_count": 78,
          "metadata": {},
          "output_type": "execute_result"
        }
      ],
      "source": [
        "cv2.imshow(\"gray image\",gray)\n",
        "cv2.waitKey()"
      ]
    },
    {
      "cell_type": "code",
      "execution_count": 79,
      "metadata": {},
      "outputs": [
        {
          "data": {
            "text/plain": [
              "-1"
            ]
          },
          "execution_count": 79,
          "metadata": {},
          "output_type": "execute_result"
        }
      ],
      "source": [
        "value, thresh = cv2.threshold(gray,0,255,cv2.THRESH_BINARY_INV | cv2.THRESH_OTSU)\n",
        "cv2.imshow(\"gray\",thresh)\n",
        "cv2.waitKey()"
      ]
    },
    {
      "cell_type": "code",
      "execution_count": 80,
      "metadata": {},
      "outputs": [
        {
          "data": {
            "text/plain": [
              "-1"
            ]
          },
          "execution_count": 80,
          "metadata": {},
          "output_type": "execute_result"
        }
      ],
      "source": [
        "thresh.shape\n",
        "img = cv2.resize(thresh,(28,28))\n",
        "cv2.imshow(\"resized image\",img)\n",
        "cv2.waitKey()"
      ]
    },
    {
      "cell_type": "code",
      "execution_count": 81,
      "metadata": {},
      "outputs": [
        {
          "data": {
            "text/plain": [
              "(1, 28, 28, 1)"
            ]
          },
          "execution_count": 81,
          "metadata": {},
          "output_type": "execute_result"
        }
      ],
      "source": [
        "img = img.astype('float32') / 255.0\n",
        "img = np.expand_dims(img, axis=-1)\n",
        "img = np.reshape(img, (1,28,28,1))\n",
        "img.shape"
      ]
    },
    {
      "cell_type": "code",
      "execution_count": 89,
      "metadata": {},
      "outputs": [
        {
          "data": {
            "text/plain": [
              "array([[1.7028200e-02, 1.8913505e-10, 2.2810383e-01, 6.0647854e-04,\n",
              "        8.6577522e-08, 1.2596806e-04, 7.3334975e-03, 1.8634661e-07,\n",
              "        7.2507322e-02, 2.8279328e-05, 6.4550065e-08, 3.9339109e-04,\n",
              "        3.2262433e-06, 4.5860877e-05, 3.0540302e-06, 5.8043488e-15,\n",
              "        4.3621533e-02, 9.5580072e-11, 4.2277434e-20, 2.2066921e-10,\n",
              "        1.6822710e-08, 3.0676912e-08, 9.4890087e-09, 7.1829905e-05,\n",
              "        7.8902661e-04, 5.7000448e-06, 6.2912393e-01, 1.2703985e-04,\n",
              "        1.6858759e-05, 1.1463647e-12, 5.4423567e-06, 8.2054748e-17,\n",
              "        1.4066441e-06, 5.0393289e-15, 4.9804516e-06, 5.2762796e-05]],\n",
              "      dtype=float32)"
            ]
          },
          "execution_count": 89,
          "metadata": {},
          "output_type": "execute_result"
        }
      ],
      "source": [
        "prediction1 = loaded_model.predict(img)\n",
        "prediction1"
      ]
    },
    {
      "cell_type": "code",
      "execution_count": 90,
      "metadata": {},
      "outputs": [
        {
          "data": {
            "text/plain": [
              "26"
            ]
          },
          "execution_count": 90,
          "metadata": {},
          "output_type": "execute_result"
        }
      ],
      "source": [
        "np.argmax(prediction1)"
      ]
    },
    {
      "cell_type": "code",
      "execution_count": 1,
      "metadata": {},
      "outputs": [
        {
          "ename": "NameError",
          "evalue": "name 'name_labels' is not defined",
          "output_type": "error",
          "traceback": [
            "\u001b[1;31m---------------------------------------------------------------------------\u001b[0m",
            "\u001b[1;31mNameError\u001b[0m                                 Traceback (most recent call last)",
            "Cell \u001b[1;32mIn[1], line 1\u001b[0m\n\u001b[1;32m----> 1\u001b[0m \u001b[43mname_labels\u001b[49m[\u001b[38;5;241m5\u001b[39m]\n",
            "\u001b[1;31mNameError\u001b[0m: name 'name_labels' is not defined"
          ]
        }
      ],
      "source": [
        "name_labels[26]"
      ]
    },
    {
      "cell_type": "code",
      "execution_count": 59,
      "metadata": {},
      "outputs": [
        {
          "name": "stdout",
          "output_type": "stream",
          "text": [
            "              precision    recall  f1-score   support\n",
            "\n",
            "           0       0.36      0.79      0.49      1381\n",
            "           1       0.98      0.98      0.98      1575\n",
            "           2       0.78      0.99      0.87      1398\n",
            "           3       0.91      0.99      0.95      1428\n",
            "           4       0.94      0.95      0.94      1365\n",
            "           5       0.57      0.96      0.72      1263\n",
            "           6       0.94      0.99      0.96      1375\n",
            "           7       0.96      0.98      0.97      1459\n",
            "           8       0.88      0.99      0.94      1365\n",
            "           9       0.96      0.97      0.97      1392\n",
            "           A       0.99      0.99      0.99      2774\n",
            "           B       0.98      0.97      0.97      1734\n",
            "           C       0.99      0.98      0.99      4682\n",
            "           D       0.87      0.97      0.92      2027\n",
            "           E       0.99      0.98      0.99      2288\n",
            "           F       0.97      0.99      0.98       233\n",
            "           G       0.95      0.95      0.95      1152\n",
            "           H       0.99      0.96      0.97      1444\n",
            "           I       0.97      0.99      0.98       224\n",
            "           J       0.96      0.95      0.96      1698\n",
            "           K       0.97      0.99      0.98      1121\n",
            "           L       0.99      0.96      0.97      2317\n",
            "           M       0.99      0.99      0.99      2467\n",
            "           N       0.99      0.98      0.99      3802\n",
            "           O       0.97      0.81      0.88     11565\n",
            "           P       1.00      0.98      0.99      3868\n",
            "           Q       0.91      0.98      0.95      1162\n",
            "           R       0.99      0.98      0.98      2313\n",
            "           S       0.99      0.89      0.94      9684\n",
            "           T       1.00      0.98      0.99      4499\n",
            "           U       0.99      0.97      0.98      5801\n",
            "           V       0.97      1.00      0.98       836\n",
            "           W       0.99      0.99      0.99      2157\n",
            "           X       0.97      0.99      0.98      1254\n",
            "           Y       0.98      0.94      0.96      2172\n",
            "           Z       0.97      0.85      0.91      1215\n",
            "\n",
            "    accuracy                           0.94     88490\n",
            "   macro avg       0.93      0.96      0.94     88490\n",
            "weighted avg       0.96      0.94      0.95     88490\n",
            "\n"
          ]
        },
        {
          "data": {
            "image/png": "[encoded data removed]",
            "text/plain": [
              "<Figure size 1200x1000 with 2 Axes>"
            ]
          },
          "metadata": {},
          "output_type": "display_data"
        }
      ],
      "source": [
        "# Evaluate the model and print classification report\n",
        "predictions = loaded_model.predict(X_test, batch_size=batch_size)\n",
        "print(classification_report(y_test.argmax(axis=1), predictions.argmax(axis=1), target_names=name_labels))\n",
        "\n",
        "# Compute confusion matrix\n",
        "cm = confusion_matrix(y_test.argmax(axis=1), predictions.argmax(axis=1))\n",
        "\n",
        "# Plot confusion matrix\n",
        "plt.figure(figsize=(12, 10))\n",
        "sns.heatmap(cm, annot=True, fmt='d', cmap='Blues', xticklabels=name_labels, yticklabels=name_labels)\n",
        "plt.xlabel('Predicted')\n",
        "plt.ylabel('True')\n",
        "plt.title('Confusion Matrix')\n",
        "plt.show()"
      ]
    }
  ],
  "metadata": {
    "colab": {
      "provenance": []
    },
    "kernelspec": {
      "display_name": "Python 3",
      "name": "python3"
    },
    "language_info": {
      "codemirror_mode": {
        "name": "ipython",
        "version": 3
      },
      "file_extension": ".py",
      "mimetype": "text/x-python",
      "name": "python",
      "nbconvert_exporter": "python",
      "pygments_lexer": "ipython3",
      "version": "3.9.12"
    }
  },
  "nbformat": 4,
  "nbformat_minor": 0
}
