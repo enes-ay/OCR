{
  "cells": [
    {
      "cell_type": "code",
      "execution_count": 1,
      "metadata": {
        "id": "GEK3XVkiwj-d"
      },
      "outputs": [],
      "source": [
        "import numpy as np\n",
        "import zipfile as zipfile\n",
        "import pandas as pd\n",
        "import matplotlib.pyplot as plt\n",
        "import seaborn as sns\n",
        "from sklearn.preprocessing import LabelBinarizer\n",
        "from sklearn.model_selection import train_test_split\n",
        "from sklearn.metrics import classification_report"
      ]
    },
    {
      "cell_type": "markdown",
      "metadata": {
        "id": "VTt1QM_nxya9"
      },
      "source": [
        "Digit Dataset"
      ]
    },
    {
      "cell_type": "code",
      "execution_count": 2,
      "metadata": {
        "id": "Ndtonw5Yxs9C"
      },
      "outputs": [],
      "source": [
        "from tensorflow.keras.datasets import mnist"
      ]
    },
    {
      "cell_type": "code",
      "execution_count": 3,
      "metadata": {
        "id": "Uy2LNRE1yj1N"
      },
      "outputs": [],
      "source": [
        "(train_data,train_labels),(test_data,test_labels) = mnist.load_data()"
      ]
    },
    {
      "cell_type": "code",
      "execution_count": 4,
      "metadata": {
        "colab": {
          "base_uri": "https://localhost:8080/",
          "height": 68
        },
        "id": "FECMngluy-y8",
        "outputId": "52cadfe8-b5ce-4122-898f-93e681449a04"
      },
      "outputs": [
        {
          "data": {
            "text/plain": [
              "array([[  0,   0,   0,   0,   0,   0,   0,   0,   0,   0,   0,   0,   0,\n",
              "          0,   0,   0,   0,   0,   0,   0,   0,   0,   0,   0,   0,   0,\n",
              "          0,   0],\n",
              "       [  0,   0,   0,   0,   0,   0,   0,   0,   0,   0,   0,   0,   0,\n",
              "          0,   0,   0,   0,   0,   0,   0,   0,   0,   0,   0,   0,   0,\n",
              "          0,   0],\n",
              "       [  0,   0,   0,   0,   0,   0,   0,   0,   0,   0,   0,   0,   0,\n",
              "          0,   0,   0,   0,   0,   0,   0,   0,   0,   0,   0,   0,   0,\n",
              "          0,   0],\n",
              "       [  0,   0,   0,   0,   0,   0,   0,   0,   0,   0,   0,   0,   0,\n",
              "          0,   0,   0,   0,   0,   0,   0,   0,   0,   0,   0,   0,   0,\n",
              "          0,   0],\n",
              "       [  0,   0,   0,   0,   0,   0,   0,   0,   0,   0,   0,   0,   0,\n",
              "          0,   0,   0,   0,   0,   0,   0,   0,   0,   0,   0,   0,   0,\n",
              "          0,   0],\n",
              "       [  0,   0,   0,   0,   0,   0,   0,   0,   0,   0,   0,   0,   3,\n",
              "         18,  18,  18, 126, 136, 175,  26, 166, 255, 247, 127,   0,   0,\n",
              "          0,   0],\n",
              "       [  0,   0,   0,   0,   0,   0,   0,   0,  30,  36,  94, 154, 170,\n",
              "        253, 253, 253, 253, 253, 225, 172, 253, 242, 195,  64,   0,   0,\n",
              "          0,   0],\n",
              "       [  0,   0,   0,   0,   0,   0,   0,  49, 238, 253, 253, 253, 253,\n",
              "        253, 253, 253, 253, 251,  93,  82,  82,  56,  39,   0,   0,   0,\n",
              "          0,   0],\n",
              "       [  0,   0,   0,   0,   0,   0,   0,  18, 219, 253, 253, 253, 253,\n",
              "        253, 198, 182, 247, 241,   0,   0,   0,   0,   0,   0,   0,   0,\n",
              "          0,   0],\n",
              "       [  0,   0,   0,   0,   0,   0,   0,   0,  80, 156, 107, 253, 253,\n",
              "        205,  11,   0,  43, 154,   0,   0,   0,   0,   0,   0,   0,   0,\n",
              "          0,   0],\n",
              "       [  0,   0,   0,   0,   0,   0,   0,   0,   0,  14,   1, 154, 253,\n",
              "         90,   0,   0,   0,   0,   0,   0,   0,   0,   0,   0,   0,   0,\n",
              "          0,   0],\n",
              "       [  0,   0,   0,   0,   0,   0,   0,   0,   0,   0,   0, 139, 253,\n",
              "        190,   2,   0,   0,   0,   0,   0,   0,   0,   0,   0,   0,   0,\n",
              "          0,   0],\n",
              "       [  0,   0,   0,   0,   0,   0,   0,   0,   0,   0,   0,  11, 190,\n",
              "        253,  70,   0,   0,   0,   0,   0,   0,   0,   0,   0,   0,   0,\n",
              "          0,   0],\n",
              "       [  0,   0,   0,   0,   0,   0,   0,   0,   0,   0,   0,   0,  35,\n",
              "        241, 225, 160, 108,   1,   0,   0,   0,   0,   0,   0,   0,   0,\n",
              "          0,   0],\n",
              "       [  0,   0,   0,   0,   0,   0,   0,   0,   0,   0,   0,   0,   0,\n",
              "         81, 240, 253, 253, 119,  25,   0,   0,   0,   0,   0,   0,   0,\n",
              "          0,   0],\n",
              "       [  0,   0,   0,   0,   0,   0,   0,   0,   0,   0,   0,   0,   0,\n",
              "          0,  45, 186, 253, 253, 150,  27,   0,   0,   0,   0,   0,   0,\n",
              "          0,   0],\n",
              "       [  0,   0,   0,   0,   0,   0,   0,   0,   0,   0,   0,   0,   0,\n",
              "          0,   0,  16,  93, 252, 253, 187,   0,   0,   0,   0,   0,   0,\n",
              "          0,   0],\n",
              "       [  0,   0,   0,   0,   0,   0,   0,   0,   0,   0,   0,   0,   0,\n",
              "          0,   0,   0,   0, 249, 253, 249,  64,   0,   0,   0,   0,   0,\n",
              "          0,   0],\n",
              "       [  0,   0,   0,   0,   0,   0,   0,   0,   0,   0,   0,   0,   0,\n",
              "          0,  46, 130, 183, 253, 253, 207,   2,   0,   0,   0,   0,   0,\n",
              "          0,   0],\n",
              "       [  0,   0,   0,   0,   0,   0,   0,   0,   0,   0,   0,   0,  39,\n",
              "        148, 229, 253, 253, 253, 250, 182,   0,   0,   0,   0,   0,   0,\n",
              "          0,   0],\n",
              "       [  0,   0,   0,   0,   0,   0,   0,   0,   0,   0,  24, 114, 221,\n",
              "        253, 253, 253, 253, 201,  78,   0,   0,   0,   0,   0,   0,   0,\n",
              "          0,   0],\n",
              "       [  0,   0,   0,   0,   0,   0,   0,   0,  23,  66, 213, 253, 253,\n",
              "        253, 253, 198,  81,   2,   0,   0,   0,   0,   0,   0,   0,   0,\n",
              "          0,   0],\n",
              "       [  0,   0,   0,   0,   0,   0,  18, 171, 219, 253, 253, 253, 253,\n",
              "        195,  80,   9,   0,   0,   0,   0,   0,   0,   0,   0,   0,   0,\n",
              "          0,   0],\n",
              "       [  0,   0,   0,   0,  55, 172, 226, 253, 253, 253, 253, 244, 133,\n",
              "         11,   0,   0,   0,   0,   0,   0,   0,   0,   0,   0,   0,   0,\n",
              "          0,   0],\n",
              "       [  0,   0,   0,   0, 136, 253, 253, 253, 212, 135, 132,  16,   0,\n",
              "          0,   0,   0,   0,   0,   0,   0,   0,   0,   0,   0,   0,   0,\n",
              "          0,   0],\n",
              "       [  0,   0,   0,   0,   0,   0,   0,   0,   0,   0,   0,   0,   0,\n",
              "          0,   0,   0,   0,   0,   0,   0,   0,   0,   0,   0,   0,   0,\n",
              "          0,   0],\n",
              "       [  0,   0,   0,   0,   0,   0,   0,   0,   0,   0,   0,   0,   0,\n",
              "          0,   0,   0,   0,   0,   0,   0,   0,   0,   0,   0,   0,   0,\n",
              "          0,   0],\n",
              "       [  0,   0,   0,   0,   0,   0,   0,   0,   0,   0,   0,   0,   0,\n",
              "          0,   0,   0,   0,   0,   0,   0,   0,   0,   0,   0,   0,   0,\n",
              "          0,   0]], dtype=uint8)"
            ]
          },
          "execution_count": 4,
          "metadata": {},
          "output_type": "execute_result"
        }
      ],
      "source": [
        "train_data[0]"
      ]
    },
    {
      "cell_type": "code",
      "execution_count": 5,
      "metadata": {
        "id": "kx6BeA4pzDjq"
      },
      "outputs": [],
      "source": [
        "digits_data = np.vstack([train_data,test_data])\n",
        "digits_labels= np.hstack([train_labels,test_labels])"
      ]
    },
    {
      "cell_type": "code",
      "execution_count": 6,
      "metadata": {
        "colab": {
          "base_uri": "https://localhost:8080/"
        },
        "id": "plG6hMiWzDnq",
        "outputId": "b3ecab81-7586-44eb-f7af-64511f7d33c0"
      },
      "outputs": [
        {
          "data": {
            "text/plain": [
              "(70000, 28, 28)"
            ]
          },
          "execution_count": 6,
          "metadata": {},
          "output_type": "execute_result"
        }
      ],
      "source": [
        "digits_data.shape # 70000 image matrices 28x28"
      ]
    },
    {
      "cell_type": "code",
      "execution_count": 7,
      "metadata": {},
      "outputs": [
        {
          "data": {
            "text/plain": [
              "array([0, 1, 2, 3, 4, 5, 6, 7, 8, 9], dtype=uint8)"
            ]
          },
          "execution_count": 7,
          "metadata": {},
          "output_type": "execute_result"
        }
      ],
      "source": [
        "a = np.unique(digits_labels)\n",
        "a"
      ]
    },
    {
      "cell_type": "code",
      "execution_count": 8,
      "metadata": {
        "colab": {
          "base_uri": "https://localhost:8080/",
          "height": 469
        },
        "id": "wNSpafsGzDqD",
        "outputId": "b8c7c9dd-8323-4ce5-99e7-266e4bdd50ac"
      },
      "outputs": [
        {
          "data": {
            "text/plain": [
              "Text(0.5, 1.0, 'Class :4')"
            ]
          },
          "execution_count": 8,
          "metadata": {},
          "output_type": "execute_result"
        },
        {
          "data": {
            "image/png": "[encoded data removed]",
            "text/plain": [
              "<Figure size 640x480 with 1 Axes>"
            ]
          },
          "metadata": {},
          "output_type": "display_data"
        }
      ],
      "source": [
        "random_index = np.random.randint(0,train_data.shape[0])\n",
        "plt.imshow(digits_data[random_index], cmap= 'gray')\n",
        "plt.title('Class :'+ str(digits_labels[random_index]))"
      ]
    },
    {
      "cell_type": "markdown",
      "metadata": {
        "id": "g7NFJn6r8sMx"
      },
      "source": [
        "**A-Z DATASET**"
      ]
    },
    {
      "cell_type": "code",
      "execution_count": 9,
      "metadata": {
        "colab": {
          "base_uri": "https://localhost:8080/",
          "height": 424
        },
        "id": "Rs0y9RGC_0z_",
        "outputId": "2cc41f75-54c5-4adf-c7a7-6dc919a7b9d9"
      },
      "outputs": [],
      "source": [
        "dataset_az = pd.read_csv(r\"C:\\Users\\Enes\\Desktop\\OCR\\A_Z Handwritten Data\\A_Z Handwritten Data.csv\")"
      ]
    },
    {
      "cell_type": "code",
      "execution_count": 10,
      "metadata": {},
      "outputs": [
        {
          "data": {
            "text/plain": [
              "(372450, 785)"
            ]
          },
          "execution_count": 10,
          "metadata": {},
          "output_type": "execute_result"
        }
      ],
      "source": [
        "dataset_az.shape"
      ]
    },
    {
      "cell_type": "code",
      "execution_count": 11,
      "metadata": {
        "id": "OWJOK3i79-uC"
      },
      "outputs": [
        {
          "data": {
            "text/html": [
              "<div>\n",
              "<style scoped>\n",
              "    .dataframe tbody tr th:only-of-type {\n",
              "        vertical-align: middle;\n",
              "    }\n",
              "\n",
              "    .dataframe tbody tr th {\n",
              "        vertical-align: top;\n",
              "    }\n",
              "\n",
              "    .dataframe thead th {\n",
              "        text-align: right;\n",
              "    }\n",
              "</style>\n",
              "<table border=\"1\" class=\"dataframe\">\n",
              "  <thead>\n",
              "    <tr style=\"text-align: right;\">\n",
              "      <th></th>\n",
              "      <th>0.1</th>\n",
              "      <th>0.2</th>\n",
              "      <th>0.3</th>\n",
              "      <th>0.4</th>\n",
              "      <th>0.5</th>\n",
              "      <th>0.6</th>\n",
              "      <th>0.7</th>\n",
              "      <th>0.8</th>\n",
              "      <th>0.9</th>\n",
              "      <th>0.10</th>\n",
              "      <th>...</th>\n",
              "      <th>0.639</th>\n",
              "      <th>0.640</th>\n",
              "      <th>0.641</th>\n",
              "      <th>0.642</th>\n",
              "      <th>0.643</th>\n",
              "      <th>0.644</th>\n",
              "      <th>0.645</th>\n",
              "      <th>0.646</th>\n",
              "      <th>0.647</th>\n",
              "      <th>0.648</th>\n",
              "    </tr>\n",
              "  </thead>\n",
              "  <tbody>\n",
              "    <tr>\n",
              "      <th>0</th>\n",
              "      <td>0</td>\n",
              "      <td>0</td>\n",
              "      <td>0</td>\n",
              "      <td>0</td>\n",
              "      <td>0</td>\n",
              "      <td>0</td>\n",
              "      <td>0</td>\n",
              "      <td>0</td>\n",
              "      <td>0</td>\n",
              "      <td>0</td>\n",
              "      <td>...</td>\n",
              "      <td>0</td>\n",
              "      <td>0</td>\n",
              "      <td>0</td>\n",
              "      <td>0</td>\n",
              "      <td>0</td>\n",
              "      <td>0</td>\n",
              "      <td>0</td>\n",
              "      <td>0</td>\n",
              "      <td>0</td>\n",
              "      <td>0</td>\n",
              "    </tr>\n",
              "    <tr>\n",
              "      <th>1</th>\n",
              "      <td>0</td>\n",
              "      <td>0</td>\n",
              "      <td>0</td>\n",
              "      <td>0</td>\n",
              "      <td>0</td>\n",
              "      <td>0</td>\n",
              "      <td>0</td>\n",
              "      <td>0</td>\n",
              "      <td>0</td>\n",
              "      <td>0</td>\n",
              "      <td>...</td>\n",
              "      <td>0</td>\n",
              "      <td>0</td>\n",
              "      <td>0</td>\n",
              "      <td>0</td>\n",
              "      <td>0</td>\n",
              "      <td>0</td>\n",
              "      <td>0</td>\n",
              "      <td>0</td>\n",
              "      <td>0</td>\n",
              "      <td>0</td>\n",
              "    </tr>\n",
              "    <tr>\n",
              "      <th>2</th>\n",
              "      <td>0</td>\n",
              "      <td>0</td>\n",
              "      <td>0</td>\n",
              "      <td>0</td>\n",
              "      <td>0</td>\n",
              "      <td>0</td>\n",
              "      <td>0</td>\n",
              "      <td>0</td>\n",
              "      <td>0</td>\n",
              "      <td>0</td>\n",
              "      <td>...</td>\n",
              "      <td>0</td>\n",
              "      <td>0</td>\n",
              "      <td>0</td>\n",
              "      <td>0</td>\n",
              "      <td>0</td>\n",
              "      <td>0</td>\n",
              "      <td>0</td>\n",
              "      <td>0</td>\n",
              "      <td>0</td>\n",
              "      <td>0</td>\n",
              "    </tr>\n",
              "    <tr>\n",
              "      <th>3</th>\n",
              "      <td>0</td>\n",
              "      <td>0</td>\n",
              "      <td>0</td>\n",
              "      <td>0</td>\n",
              "      <td>0</td>\n",
              "      <td>0</td>\n",
              "      <td>0</td>\n",
              "      <td>0</td>\n",
              "      <td>0</td>\n",
              "      <td>0</td>\n",
              "      <td>...</td>\n",
              "      <td>0</td>\n",
              "      <td>0</td>\n",
              "      <td>0</td>\n",
              "      <td>0</td>\n",
              "      <td>0</td>\n",
              "      <td>0</td>\n",
              "      <td>0</td>\n",
              "      <td>0</td>\n",
              "      <td>0</td>\n",
              "      <td>0</td>\n",
              "    </tr>\n",
              "    <tr>\n",
              "      <th>4</th>\n",
              "      <td>0</td>\n",
              "      <td>0</td>\n",
              "      <td>0</td>\n",
              "      <td>0</td>\n",
              "      <td>0</td>\n",
              "      <td>0</td>\n",
              "      <td>0</td>\n",
              "      <td>0</td>\n",
              "      <td>0</td>\n",
              "      <td>0</td>\n",
              "      <td>...</td>\n",
              "      <td>0</td>\n",
              "      <td>0</td>\n",
              "      <td>0</td>\n",
              "      <td>0</td>\n",
              "      <td>0</td>\n",
              "      <td>0</td>\n",
              "      <td>0</td>\n",
              "      <td>0</td>\n",
              "      <td>0</td>\n",
              "      <td>0</td>\n",
              "    </tr>\n",
              "    <tr>\n",
              "      <th>...</th>\n",
              "      <td>...</td>\n",
              "      <td>...</td>\n",
              "      <td>...</td>\n",
              "      <td>...</td>\n",
              "      <td>...</td>\n",
              "      <td>...</td>\n",
              "      <td>...</td>\n",
              "      <td>...</td>\n",
              "      <td>...</td>\n",
              "      <td>...</td>\n",
              "      <td>...</td>\n",
              "      <td>...</td>\n",
              "      <td>...</td>\n",
              "      <td>...</td>\n",
              "      <td>...</td>\n",
              "      <td>...</td>\n",
              "      <td>...</td>\n",
              "      <td>...</td>\n",
              "      <td>...</td>\n",
              "      <td>...</td>\n",
              "      <td>...</td>\n",
              "    </tr>\n",
              "    <tr>\n",
              "      <th>372445</th>\n",
              "      <td>0</td>\n",
              "      <td>0</td>\n",
              "      <td>0</td>\n",
              "      <td>0</td>\n",
              "      <td>0</td>\n",
              "      <td>0</td>\n",
              "      <td>0</td>\n",
              "      <td>0</td>\n",
              "      <td>0</td>\n",
              "      <td>0</td>\n",
              "      <td>...</td>\n",
              "      <td>0</td>\n",
              "      <td>0</td>\n",
              "      <td>0</td>\n",
              "      <td>0</td>\n",
              "      <td>0</td>\n",
              "      <td>0</td>\n",
              "      <td>0</td>\n",
              "      <td>0</td>\n",
              "      <td>0</td>\n",
              "      <td>0</td>\n",
              "    </tr>\n",
              "    <tr>\n",
              "      <th>372446</th>\n",
              "      <td>0</td>\n",
              "      <td>0</td>\n",
              "      <td>0</td>\n",
              "      <td>0</td>\n",
              "      <td>0</td>\n",
              "      <td>0</td>\n",
              "      <td>0</td>\n",
              "      <td>0</td>\n",
              "      <td>0</td>\n",
              "      <td>0</td>\n",
              "      <td>...</td>\n",
              "      <td>0</td>\n",
              "      <td>0</td>\n",
              "      <td>0</td>\n",
              "      <td>0</td>\n",
              "      <td>0</td>\n",
              "      <td>0</td>\n",
              "      <td>0</td>\n",
              "      <td>0</td>\n",
              "      <td>0</td>\n",
              "      <td>0</td>\n",
              "    </tr>\n",
              "    <tr>\n",
              "      <th>372447</th>\n",
              "      <td>0</td>\n",
              "      <td>0</td>\n",
              "      <td>0</td>\n",
              "      <td>0</td>\n",
              "      <td>0</td>\n",
              "      <td>0</td>\n",
              "      <td>0</td>\n",
              "      <td>0</td>\n",
              "      <td>0</td>\n",
              "      <td>0</td>\n",
              "      <td>...</td>\n",
              "      <td>0</td>\n",
              "      <td>0</td>\n",
              "      <td>0</td>\n",
              "      <td>0</td>\n",
              "      <td>0</td>\n",
              "      <td>0</td>\n",
              "      <td>0</td>\n",
              "      <td>0</td>\n",
              "      <td>0</td>\n",
              "      <td>0</td>\n",
              "    </tr>\n",
              "    <tr>\n",
              "      <th>372448</th>\n",
              "      <td>0</td>\n",
              "      <td>0</td>\n",
              "      <td>0</td>\n",
              "      <td>0</td>\n",
              "      <td>0</td>\n",
              "      <td>0</td>\n",
              "      <td>0</td>\n",
              "      <td>0</td>\n",
              "      <td>0</td>\n",
              "      <td>0</td>\n",
              "      <td>...</td>\n",
              "      <td>0</td>\n",
              "      <td>0</td>\n",
              "      <td>0</td>\n",
              "      <td>0</td>\n",
              "      <td>0</td>\n",
              "      <td>0</td>\n",
              "      <td>0</td>\n",
              "      <td>0</td>\n",
              "      <td>0</td>\n",
              "      <td>0</td>\n",
              "    </tr>\n",
              "    <tr>\n",
              "      <th>372449</th>\n",
              "      <td>0</td>\n",
              "      <td>0</td>\n",
              "      <td>0</td>\n",
              "      <td>0</td>\n",
              "      <td>0</td>\n",
              "      <td>0</td>\n",
              "      <td>0</td>\n",
              "      <td>0</td>\n",
              "      <td>0</td>\n",
              "      <td>0</td>\n",
              "      <td>...</td>\n",
              "      <td>0</td>\n",
              "      <td>0</td>\n",
              "      <td>0</td>\n",
              "      <td>0</td>\n",
              "      <td>0</td>\n",
              "      <td>0</td>\n",
              "      <td>0</td>\n",
              "      <td>0</td>\n",
              "      <td>0</td>\n",
              "      <td>0</td>\n",
              "    </tr>\n",
              "  </tbody>\n",
              "</table>\n",
              "<p>372450 rows × 784 columns</p>\n",
              "</div>"
            ],
            "text/plain": [
              "        0.1  0.2  0.3  0.4  0.5  0.6  0.7  0.8  0.9  0.10  ...  0.639  0.640  \\\n",
              "0         0    0    0    0    0    0    0    0    0     0  ...      0      0   \n",
              "1         0    0    0    0    0    0    0    0    0     0  ...      0      0   \n",
              "2         0    0    0    0    0    0    0    0    0     0  ...      0      0   \n",
              "3         0    0    0    0    0    0    0    0    0     0  ...      0      0   \n",
              "4         0    0    0    0    0    0    0    0    0     0  ...      0      0   \n",
              "...     ...  ...  ...  ...  ...  ...  ...  ...  ...   ...  ...    ...    ...   \n",
              "372445    0    0    0    0    0    0    0    0    0     0  ...      0      0   \n",
              "372446    0    0    0    0    0    0    0    0    0     0  ...      0      0   \n",
              "372447    0    0    0    0    0    0    0    0    0     0  ...      0      0   \n",
              "372448    0    0    0    0    0    0    0    0    0     0  ...      0      0   \n",
              "372449    0    0    0    0    0    0    0    0    0     0  ...      0      0   \n",
              "\n",
              "        0.641  0.642  0.643  0.644  0.645  0.646  0.647  0.648  \n",
              "0           0      0      0      0      0      0      0      0  \n",
              "1           0      0      0      0      0      0      0      0  \n",
              "2           0      0      0      0      0      0      0      0  \n",
              "3           0      0      0      0      0      0      0      0  \n",
              "4           0      0      0      0      0      0      0      0  \n",
              "...       ...    ...    ...    ...    ...    ...    ...    ...  \n",
              "372445      0      0      0      0      0      0      0      0  \n",
              "372446      0      0      0      0      0      0      0      0  \n",
              "372447      0      0      0      0      0      0      0      0  \n",
              "372448      0      0      0      0      0      0      0      0  \n",
              "372449      0      0      0      0      0      0      0      0  \n",
              "\n",
              "[372450 rows x 784 columns]"
            ]
          },
          "execution_count": 11,
          "metadata": {},
          "output_type": "execute_result"
        }
      ],
      "source": [
        "alfabet_data = dataset_az.drop('0',axis=1)\n",
        "alfabet_labels = dataset_az['0']\n",
        "alfabet_data"
      ]
    },
    {
      "cell_type": "code",
      "execution_count": 12,
      "metadata": {
        "colab": {
          "base_uri": "https://localhost:8080/"
        },
        "id": "ZtvkEbGR9-wK",
        "outputId": "399e0c1c-5adf-4e85-f5e3-783f7f8ff868"
      },
      "outputs": [
        {
          "data": {
            "text/plain": [
              "((372450, 784), (372450,))"
            ]
          },
          "execution_count": 12,
          "metadata": {},
          "output_type": "execute_result"
        }
      ],
      "source": [
        "alfabet_data.shape, alfabet_labels.shape"
      ]
    },
    {
      "cell_type": "code",
      "execution_count": 13,
      "metadata": {
        "colab": {
          "base_uri": "https://localhost:8080/"
        },
        "id": "FnHvf2p59-yg",
        "outputId": "1892689c-a79c-4e12-a743-40963f94630d"
      },
      "outputs": [
        {
          "data": {
            "text/plain": [
              "0          0\n",
              "1          0\n",
              "2          0\n",
              "3          0\n",
              "4          0\n",
              "          ..\n",
              "372445    25\n",
              "372446    25\n",
              "372447    25\n",
              "372448    25\n",
              "372449    25\n",
              "Name: 0, Length: 372450, dtype: int64"
            ]
          },
          "execution_count": 13,
          "metadata": {},
          "output_type": "execute_result"
        }
      ],
      "source": [
        "alfabet_labels"
      ]
    },
    {
      "cell_type": "code",
      "execution_count": 14,
      "metadata": {
        "id": "qsg-vKi29-0a"
      },
      "outputs": [],
      "source": [
        "alfabet_data = np.reshape(alfabet_data.values, (alfabet_data.shape[0],28,28))"
      ]
    },
    {
      "cell_type": "code",
      "execution_count": 15,
      "metadata": {
        "colab": {
          "base_uri": "https://localhost:8080/"
        },
        "id": "-c8RxGcL9-2g",
        "outputId": "a650b501-c581-44b4-e504-82344b97972a"
      },
      "outputs": [
        {
          "data": {
            "text/plain": [
              "(372450, 28, 28)"
            ]
          },
          "execution_count": 15,
          "metadata": {},
          "output_type": "execute_result"
        }
      ],
      "source": [
        "alfabet_data.shape"
      ]
    },
    {
      "cell_type": "code",
      "execution_count": 16,
      "metadata": {
        "colab": {
          "base_uri": "https://localhost:8080/",
          "height": 469
        },
        "id": "yhZphXKm9-4w",
        "outputId": "d502c202-cd75-48fd-ad9d-fab6287c05a6"
      },
      "outputs": [
        {
          "data": {
            "text/plain": [
              "Text(0.5, 1.0, 'Class 3')"
            ]
          },
          "execution_count": 16,
          "metadata": {},
          "output_type": "execute_result"
        },
        {
          "data": {
            "image/png": "[encoded data removed]",
            "text/plain": [
              "<Figure size 640x480 with 1 Axes>"
            ]
          },
          "metadata": {},
          "output_type": "display_data"
        }
      ],
      "source": [
        "plt.imshow(alfabet_data[51512],cmap=\"gray\")\n",
        "plt.title(\"Class \"+str(alfabet_labels[51512]))  # 0->A, 1->B, 2->C..."
      ]
    },
    {
      "cell_type": "code",
      "execution_count": 17,
      "metadata": {},
      "outputs": [
        {
          "data": {
            "text/plain": [
              "(0          0\n",
              " 1          0\n",
              " 2          0\n",
              " 3          0\n",
              " 4          0\n",
              "           ..\n",
              " 372445    25\n",
              " 372446    25\n",
              " 372447    25\n",
              " 372448    25\n",
              " 372449    25\n",
              " Name: 0, Length: 372450, dtype: int64,\n",
              " array([ 0,  1,  2,  3,  4,  5,  6,  7,  8,  9, 10, 11, 12, 13, 14, 15, 16,\n",
              "        17, 18, 19, 20, 21, 22, 23, 24, 25], dtype=int64))"
            ]
          },
          "execution_count": 17,
          "metadata": {},
          "output_type": "execute_result"
        }
      ],
      "source": [
        "alfabet_labels, np.unique(alfabet_labels)"
      ]
    },
    {
      "cell_type": "code",
      "execution_count": 18,
      "metadata": {
        "id": "JS2IFA91Dmng"
      },
      "outputs": [],
      "source": [
        "alfabet_labels +=10 # to avoid conflicts "
      ]
    },
    {
      "cell_type": "code",
      "execution_count": 19,
      "metadata": {},
      "outputs": [
        {
          "data": {
            "text/plain": [
              "(372450,)"
            ]
          },
          "execution_count": 19,
          "metadata": {},
          "output_type": "execute_result"
        }
      ],
      "source": [
        "alfabet_labels.shape"
      ]
    },
    {
      "cell_type": "code",
      "execution_count": 20,
      "metadata": {},
      "outputs": [],
      "source": [
        "data = np.vstack([alfabet_data, digits_data])\n",
        "labels = np.hstack([alfabet_labels,digits_labels])"
      ]
    },
    {
      "cell_type": "code",
      "execution_count": 21,
      "metadata": {
        "id": "6jlX6C5xDmp6"
      },
      "outputs": [
        {
          "data": {
            "text/plain": [
              "((442450, 28, 28), (442450,))"
            ]
          },
          "execution_count": 21,
          "metadata": {},
          "output_type": "execute_result"
        }
      ],
      "source": [
        "data.shape, labels.shape"
      ]
    },
    {
      "cell_type": "code",
      "execution_count": 22,
      "metadata": {
        "id": "s54dijL3DmsI"
      },
      "outputs": [],
      "source": [
        "data = np.array(data, dtype='float32')"
      ]
    },
    {
      "cell_type": "code",
      "execution_count": 23,
      "metadata": {
        "id": "lumQhwSEDmuh"
      },
      "outputs": [
        {
          "data": {
            "text/plain": [
              "array([ 0,  1,  2,  3,  4,  5,  6,  7,  8,  9, 10, 11, 12, 13, 14, 15, 16,\n",
              "       17, 18, 19, 20, 21, 22, 23, 24, 25, 26, 27, 28, 29, 30, 31, 32, 33,\n",
              "       34, 35], dtype=int64)"
            ]
          },
          "execution_count": 23,
          "metadata": {},
          "output_type": "execute_result"
        }
      ],
      "source": [
        "np.unique(labels)   # (1-9) -> 0-9 , (10-25) -> A-Z"
      ]
    },
    {
      "cell_type": "code",
      "execution_count": 24,
      "metadata": {
        "id": "LoHomc2RDmw4"
      },
      "outputs": [],
      "source": [
        "data = np.expand_dims(data, axis= -1)"
      ]
    },
    {
      "cell_type": "code",
      "execution_count": 25,
      "metadata": {
        "id": "DxYD-nXlDmyq"
      },
      "outputs": [
        {
          "data": {
            "text/plain": [
              "(442450, 28, 28, 1)"
            ]
          },
          "execution_count": 25,
          "metadata": {},
          "output_type": "execute_result"
        }
      ],
      "source": [
        "data.shape"
      ]
    },
    {
      "cell_type": "markdown",
      "metadata": {},
      "source": [
        "Data Preprocessing"
      ]
    },
    {
      "cell_type": "code",
      "execution_count": 26,
      "metadata": {
        "id": "ioOrpOVyDm0g"
      },
      "outputs": [
        {
          "data": {
            "text/plain": [
              "(0.0, 255.0)"
            ]
          },
          "execution_count": 26,
          "metadata": {},
          "output_type": "execute_result"
        }
      ],
      "source": [
        "data[0].min(), data[0].max()"
      ]
    },
    {
      "cell_type": "code",
      "execution_count": 27,
      "metadata": {},
      "outputs": [],
      "source": [
        "data/=255# normalization"
      ]
    },
    {
      "cell_type": "code",
      "execution_count": 28,
      "metadata": {},
      "outputs": [
        {
          "data": {
            "text/plain": [
              "(array([ 0,  1,  2,  3,  4,  5,  6,  7,  8,  9, 10, 11, 12, 13, 14, 15, 16,\n",
              "        17, 18, 19, 20, 21, 22, 23, 24, 25, 26, 27, 28, 29, 30, 31, 32, 33,\n",
              "        34, 35], dtype=int64),\n",
              " 36)"
            ]
          },
          "execution_count": 28,
          "metadata": {},
          "output_type": "execute_result"
        }
      ],
      "source": [
        "np.unique(labels), len(np.unique(labels)) # there will be 36 output classes at the end"
      ]
    },
    {
      "cell_type": "code",
      "execution_count": 29,
      "metadata": {},
      "outputs": [],
      "source": [
        "le = LabelBinarizer()\n",
        "labels = le.fit_transform(labels)  # ONE - HOT Encoder   A B C \n",
        "                                                       # 0 0 1"
      ]
    },
    {
      "cell_type": "code",
      "execution_count": 30,
      "metadata": {},
      "outputs": [
        {
          "data": {
            "text/plain": [
              "array([0, 1])"
            ]
          },
          "execution_count": 30,
          "metadata": {},
          "output_type": "execute_result"
        }
      ],
      "source": [
        "np.unique(labels)"
      ]
    },
    {
      "cell_type": "code",
      "execution_count": 31,
      "metadata": {},
      "outputs": [
        {
          "data": {
            "text/plain": [
              "array([0, 0, 0, 0, 0, 0, 0, 0, 0, 0, 1, 0, 0, 0, 0, 0, 0, 0, 0, 0, 0, 0,\n",
              "       0, 0, 0, 0, 0, 0, 0, 0, 0, 0, 0, 0, 0, 0])"
            ]
          },
          "execution_count": 31,
          "metadata": {},
          "output_type": "execute_result"
        }
      ],
      "source": [
        "labels[0] "
      ]
    },
    {
      "cell_type": "code",
      "execution_count": 32,
      "metadata": {},
      "outputs": [
        {
          "data": {
            "text/plain": [
              "Text(0.5, 1.0, '[0 0 0 0 0 0 0 0 0 0 0 0 1 0 0 0 0 0 0 0 0 0 0 0 0 0 0 0 0 0 0 0 0 0 0 0]')"
            ]
          },
          "execution_count": 32,
          "metadata": {},
          "output_type": "execute_result"
        },
        {
          "data": {
            "image/png": "[encoded data removed]",
            "text/plain": [
              "<Figure size 640x480 with 1 Axes>"
            ]
          },
          "metadata": {},
          "output_type": "display_data"
        }
      ],
      "source": [
        "plt.imshow(data[40000],cmap='gray')\n",
        "plt.title(labels[40000])"
      ]
    },
    {
      "cell_type": "code",
      "execution_count": 33,
      "metadata": {},
      "outputs": [],
      "source": [
        "classes_total = labels.sum(0)"
      ]
    },
    {
      "cell_type": "code",
      "execution_count": 34,
      "metadata": {},
      "outputs": [
        {
          "data": {
            "text/plain": [
              "(36,)"
            ]
          },
          "execution_count": 34,
          "metadata": {},
          "output_type": "execute_result"
        }
      ],
      "source": [
        "classes_total.shape"
      ]
    },
    {
      "cell_type": "code",
      "execution_count": 35,
      "metadata": {},
      "outputs": [
        {
          "data": {
            "text/plain": [
              "array([ 6903,  7877,  6990,  7141,  6824,  6313,  6876,  7293,  6825,\n",
              "        6958, 13869,  8668, 23409, 10134, 11440,  1163,  5762,  7218,\n",
              "        1120,  8493,  5603, 11586, 12336, 19010, 57825, 19341,  5812,\n",
              "       11566, 48419, 22495, 29008,  4182, 10784,  6272, 10859,  6076])"
            ]
          },
          "execution_count": 35,
          "metadata": {},
          "output_type": "execute_result"
        }
      ],
      "source": [
        "classes_total"
      ]
    },
    {
      "cell_type": "code",
      "execution_count": 36,
      "metadata": {},
      "outputs": [
        {
          "data": {
            "text/plain": [
              "57825"
            ]
          },
          "execution_count": 36,
          "metadata": {},
          "output_type": "execute_result"
        }
      ],
      "source": [
        "classes_total.max()"
      ]
    },
    {
      "cell_type": "code",
      "execution_count": 37,
      "metadata": {},
      "outputs": [],
      "source": [
        "classes_weights = {}\n",
        "for i in range(0 , len(classes_total)):\n",
        "    classes_weights[i]= classes_total.max()/classes_total[i]"
      ]
    },
    {
      "cell_type": "code",
      "execution_count": 38,
      "metadata": {},
      "outputs": [
        {
          "data": {
            "text/plain": [
              "{0: 8.376792698826597,\n",
              " 1: 7.340992763742541,\n",
              " 2: 8.272532188841202,\n",
              " 3: 8.097605377398123,\n",
              " 4: 8.473769050410317,\n",
              " 5: 9.15967052114684,\n",
              " 6: 8.409685863874346,\n",
              " 7: 7.928835870012341,\n",
              " 8: 8.472527472527473,\n",
              " 9: 8.310577752227651,\n",
              " 10: 4.169370538611291,\n",
              " 11: 6.671089063221043,\n",
              " 12: 2.4702037677816224,\n",
              " 13: 5.7060390763765545,\n",
              " 14: 5.0546328671328675,\n",
              " 15: 49.72055030094583,\n",
              " 16: 10.035577924331829,\n",
              " 17: 8.011221945137157,\n",
              " 18: 51.629464285714285,\n",
              " 19: 6.808548216178029,\n",
              " 20: 10.320364090665715,\n",
              " 21: 4.990937338166753,\n",
              " 22: 4.6875,\n",
              " 23: 3.0418200946870066,\n",
              " 24: 1.0,\n",
              " 25: 2.989762680316426,\n",
              " 26: 9.94924294562973,\n",
              " 27: 4.999567698426422,\n",
              " 28: 1.1942625828703608,\n",
              " 29: 2.5705712380529007,\n",
              " 30: 1.993415609487038,\n",
              " 31: 13.827116212338593,\n",
              " 32: 5.362110534124629,\n",
              " 33: 9.21954719387755,\n",
              " 34: 5.3250759738465785,\n",
              " 35: 9.51695194206715}"
            ]
          },
          "execution_count": 38,
          "metadata": {},
          "output_type": "execute_result"
        }
      ],
      "source": [
        "classes_weights"
      ]
    },
    {
      "cell_type": "code",
      "execution_count": 39,
      "metadata": {},
      "outputs": [],
      "source": [
        "X_train , X_test , y_train , y_test = train_test_split(data,labels,test_size=0.2,random_state=1,stratify=labels)"
      ]
    },
    {
      "cell_type": "code",
      "execution_count": 40,
      "metadata": {},
      "outputs": [
        {
          "data": {
            "text/plain": [
              "((353960, 28, 28, 1), (88490, 28, 28, 1))"
            ]
          },
          "execution_count": 40,
          "metadata": {},
          "output_type": "execute_result"
        }
      ],
      "source": [
        "X_train.shape , X_test.shape"
      ]
    },
    {
      "cell_type": "code",
      "execution_count": 41,
      "metadata": {},
      "outputs": [
        {
          "data": {
            "text/plain": [
              "((353960, 36), (88490, 36))"
            ]
          },
          "execution_count": 41,
          "metadata": {},
          "output_type": "execute_result"
        }
      ],
      "source": [
        "y_train.shape, y_test.shape"
      ]
    },
    {
      "cell_type": "code",
      "execution_count": 42,
      "metadata": {},
      "outputs": [],
      "source": [
        "from tensorflow.keras.preprocessing.image import ImageDataGenerator"
      ]
    },
    {
      "cell_type": "code",
      "execution_count": 43,
      "metadata": {},
      "outputs": [],
      "source": [
        "augmentation = ImageDataGenerator(rotation_range=10,zoom_range=0.05,width_shift_range=0.1,height_shift_range=0.1,horizontal_flip=False)"
      ]
    },
    {
      "cell_type": "markdown",
      "metadata": {},
      "source": [
        "Build the Neural Network"
      ]
    },
    {
      "cell_type": "code",
      "execution_count": 44,
      "metadata": {},
      "outputs": [],
      "source": [
        "from tensorflow.keras.models import Sequential\n",
        "from tensorflow.keras.layers import Conv2D , MaxPool2D, Flatten, Dense\n",
        "from tensorflow.keras.callbacks import ModelCheckpoint\n"
      ]
    },
    {
      "cell_type": "code",
      "execution_count": 45,
      "metadata": {},
      "outputs": [],
      "source": [
        "network = Sequential()\n",
        "network.add(Conv2D(filters=32,kernel_size=(3,3),activation='relu',input_shape=(28,28,1)))\n",
        "network.add(MaxPool2D(pool_size=(2,2)))\n",
        "\n",
        "network.add(Conv2D(filters=64,kernel_size=(3,3),activation='relu',padding='same'))\n",
        "network.add(MaxPool2D(pool_size=(2,2)))\n",
        "\n",
        "network.add(Conv2D(filters=128,kernel_size=(3,3),activation='relu',padding='same'))\n",
        "network.add(MaxPool2D(pool_size=(2,2)))\n",
        "\n",
        "network.add(Flatten())\n",
        "\n",
        "network.add(Dense(64,activation='relu'))\n",
        "network.add(Dense(128,activation='relu'))  # dense is fully-connected layer\n",
        "\n",
        "network.add(Dense(36,activation='softmax'))\n",
        "\n",
        "network.compile(loss='categorical_crossentropy',optimizer='adam',metrics=['accuracy'])"
      ]
    },
    {
      "cell_type": "code",
      "execution_count": 46,
      "metadata": {},
      "outputs": [
        {
          "name": "stdout",
          "output_type": "stream",
          "text": [
            "Model: \"sequential\"\n",
            "_________________________________________________________________\n",
            " Layer (type)                Output Shape              Param #   \n",
            "=================================================================\n",
            " conv2d (Conv2D)             (None, 26, 26, 32)        320       \n",
            "                                                                 \n",
            " max_pooling2d (MaxPooling2D  (None, 13, 13, 32)       0         \n",
            " )                                                               \n",
            "                                                                 \n",
            " conv2d_1 (Conv2D)           (None, 13, 13, 64)        18496     \n",
            "                                                                 \n",
            " max_pooling2d_1 (MaxPooling  (None, 6, 6, 64)         0         \n",
            " 2D)                                                             \n",
            "                                                                 \n",
            " conv2d_2 (Conv2D)           (None, 6, 6, 128)         73856     \n",
            "                                                                 \n",
            " max_pooling2d_2 (MaxPooling  (None, 3, 3, 128)        0         \n",
            " 2D)                                                             \n",
            "                                                                 \n",
            " flatten (Flatten)           (None, 1152)              0         \n",
            "                                                                 \n",
            " dense (Dense)               (None, 64)                73792     \n",
            "                                                                 \n",
            " dense_1 (Dense)             (None, 128)               8320      \n",
            "                                                                 \n",
            " dense_2 (Dense)             (None, 36)                4644      \n",
            "                                                                 \n",
            "=================================================================\n",
            "Total params: 179,428\n",
            "Trainable params: 179,428\n",
            "Non-trainable params: 0\n",
            "_________________________________________________________________\n"
          ]
        }
      ],
      "source": [
        "network.summary()"
      ]
    },
    {
      "cell_type": "code",
      "execution_count": 47,
      "metadata": {},
      "outputs": [],
      "source": [
        "name_labels = '0123456789'\n",
        "name_labels+=\"ABCDEFGHIJKLMNOPQRSTUVWXYZ\"\n",
        "name_labels = [l  for l in name_labels]"
      ]
    },
    {
      "cell_type": "code",
      "execution_count": 48,
      "metadata": {},
      "outputs": [
        {
          "name": "stdout",
          "output_type": "stream",
          "text": [
            "['0', '1', '2', '3', '4', '5', '6', '7', '8', '9', 'A', 'B', 'C', 'D', 'E', 'F', 'G', 'H', 'I', 'J', 'K', 'L', 'M', 'N', 'O', 'P', 'Q', 'R', 'S', 'T', 'U', 'V', 'W', 'X', 'Y', 'Z']\n"
          ]
        }
      ],
      "source": [
        "print(name_labels)"
      ]
    },
    {
      "cell_type": "markdown",
      "metadata": {},
      "source": [
        "TRAIN THE NETWORK"
      ]
    },
    {
      "cell_type": "code",
      "execution_count": 49,
      "metadata": {},
      "outputs": [],
      "source": [
        "file_model = 'custom_ocr.model'\n",
        "epochs = 20\n",
        "batch_size = 128\n"
      ]
    },
    {
      "cell_type": "code",
      "execution_count": 50,
      "metadata": {},
      "outputs": [],
      "source": [
        "checkpointer= ModelCheckpoint(file_model,monitor='val_loss',verbose=1,save_best_only=True)"
      ]
    },
    {
      "cell_type": "code",
      "execution_count": 54,
      "metadata": {},
      "outputs": [
        {
          "name": "stdout",
          "output_type": "stream",
          "text": [
            "Epoch 1/20\n",
            "2764/2765 [============================>.] - ETA: 0s - loss: 0.8488 - accuracy: 0.9102\n",
            "Epoch 1: val_loss improved from inf to 0.22782, saving model to custom_ocr.model\n",
            "INFO:tensorflow:Assets written to: custom_ocr.model\\assets\n",
            "2765/2765 [==============================] - 87s 31ms/step - loss: 0.8487 - accuracy: 0.9102 - val_loss: 0.2278 - val_accuracy: 0.9138\n",
            "Epoch 2/20\n",
            "2764/2765 [============================>.] - ETA: 0s - loss: 0.7470 - accuracy: 0.9185\n",
            "Epoch 2: val_loss improved from 0.22782 to 0.17217, saving model to custom_ocr.model\n",
            "INFO:tensorflow:Assets written to: custom_ocr.model\\assets\n",
            "2765/2765 [==============================] - 90s 33ms/step - loss: 0.7469 - accuracy: 0.9185 - val_loss: 0.1722 - val_accuracy: 0.9351\n",
            "Epoch 3/20\n",
            "2765/2765 [==============================] - ETA: 0s - loss: 0.6644 - accuracy: 0.9274\n",
            "Epoch 3: val_loss did not improve from 0.17217\n",
            "2765/2765 [==============================] - 89s 32ms/step - loss: 0.6644 - accuracy: 0.9274 - val_loss: 0.2366 - val_accuracy: 0.9053\n",
            "Epoch 4/20\n",
            "2765/2765 [==============================] - ETA: 0s - loss: 0.6247 - accuracy: 0.9303\n",
            "Epoch 4: val_loss did not improve from 0.17217\n",
            "2765/2765 [==============================] - 86s 31ms/step - loss: 0.6247 - accuracy: 0.9303 - val_loss: 0.3146 - val_accuracy: 0.8735\n",
            "Epoch 5/20\n",
            "2764/2765 [============================>.] - ETA: 0s - loss: 0.5746 - accuracy: 0.9341\n",
            "Epoch 5: val_loss did not improve from 0.17217\n",
            "2765/2765 [==============================] - 84s 30ms/step - loss: 0.5747 - accuracy: 0.9341 - val_loss: 0.3870 - val_accuracy: 0.8580\n",
            "Epoch 6/20\n",
            "2765/2765 [==============================] - ETA: 0s - loss: 0.5560 - accuracy: 0.9358\n",
            "Epoch 6: val_loss did not improve from 0.17217\n",
            "2765/2765 [==============================] - 88s 32ms/step - loss: 0.5560 - accuracy: 0.9358 - val_loss: 0.2547 - val_accuracy: 0.8921\n",
            "Epoch 7/20\n",
            "2765/2765 [==============================] - ETA: 0s - loss: 0.5306 - accuracy: 0.9371\n",
            "Epoch 7: val_loss did not improve from 0.17217\n",
            "2765/2765 [==============================] - 86s 31ms/step - loss: 0.5306 - accuracy: 0.9371 - val_loss: 0.1901 - val_accuracy: 0.9200\n",
            "Epoch 8/20\n",
            "2764/2765 [============================>.] - ETA: 0s - loss: 0.5110 - accuracy: 0.9384\n",
            "Epoch 8: val_loss did not improve from 0.17217\n",
            "2765/2765 [==============================] - 86s 31ms/step - loss: 0.5110 - accuracy: 0.9384 - val_loss: 0.2511 - val_accuracy: 0.8947\n",
            "Epoch 9/20\n",
            "2765/2765 [==============================] - ETA: 0s - loss: 0.4941 - accuracy: 0.9405\n",
            "Epoch 9: val_loss did not improve from 0.17217\n",
            "2765/2765 [==============================] - 87s 31ms/step - loss: 0.4941 - accuracy: 0.9405 - val_loss: 0.2036 - val_accuracy: 0.9159\n",
            "Epoch 10/20\n",
            "2764/2765 [============================>.] - ETA: 0s - loss: 0.4823 - accuracy: 0.9408\n",
            "Epoch 10: val_loss did not improve from 0.17217\n",
            "2765/2765 [==============================] - 85s 31ms/step - loss: 0.4824 - accuracy: 0.9408 - val_loss: 0.2133 - val_accuracy: 0.9091\n",
            "Epoch 11/20\n",
            "2764/2765 [============================>.] - ETA: 0s - loss: 0.4767 - accuracy: 0.9416\n",
            "Epoch 11: val_loss did not improve from 0.17217\n",
            "2765/2765 [==============================] - 87s 31ms/step - loss: 0.4767 - accuracy: 0.9416 - val_loss: 0.1977 - val_accuracy: 0.9243\n",
            "Epoch 12/20\n",
            "2764/2765 [============================>.] - ETA: 0s - loss: 0.4556 - accuracy: 0.9434\n",
            "Epoch 12: val_loss did not improve from 0.17217\n",
            "2765/2765 [==============================] - 96s 35ms/step - loss: 0.4556 - accuracy: 0.9434 - val_loss: 0.1839 - val_accuracy: 0.9267\n",
            "Epoch 13/20\n",
            "2764/2765 [============================>.] - ETA: 0s - loss: 0.4377 - accuracy: 0.9457\n",
            "Epoch 13: val_loss did not improve from 0.17217\n",
            "2765/2765 [==============================] - 89s 32ms/step - loss: 0.4376 - accuracy: 0.9457 - val_loss: 0.1914 - val_accuracy: 0.9201\n",
            "Epoch 14/20\n",
            "2765/2765 [==============================] - ETA: 0s - loss: 0.4335 - accuracy: 0.9458\n",
            "Epoch 14: val_loss improved from 0.17217 to 0.15951, saving model to custom_ocr.model\n",
            "INFO:tensorflow:Assets written to: custom_ocr.model\\assets\n",
            "2765/2765 [==============================] - 88s 32ms/step - loss: 0.4335 - accuracy: 0.9458 - val_loss: 0.1595 - val_accuracy: 0.9413\n",
            "Epoch 15/20\n",
            "2764/2765 [============================>.] - ETA: 0s - loss: 0.4274 - accuracy: 0.9470\n",
            "Epoch 15: val_loss improved from 0.15951 to 0.14886, saving model to custom_ocr.model\n",
            "INFO:tensorflow:Assets written to: custom_ocr.model\\assets\n",
            "2765/2765 [==============================] - 90s 33ms/step - loss: 0.4273 - accuracy: 0.9470 - val_loss: 0.1489 - val_accuracy: 0.9484\n",
            "Epoch 16/20\n",
            "2765/2765 [==============================] - ETA: 0s - loss: 0.4245 - accuracy: 0.9479\n",
            "Epoch 16: val_loss did not improve from 0.14886\n",
            "2765/2765 [==============================] - 87s 31ms/step - loss: 0.4245 - accuracy: 0.9479 - val_loss: 0.1836 - val_accuracy: 0.9252\n",
            "Epoch 17/20\n",
            "2765/2765 [==============================] - ETA: 0s - loss: 0.4127 - accuracy: 0.9489\n",
            "Epoch 17: val_loss did not improve from 0.14886\n",
            "2765/2765 [==============================] - 88s 32ms/step - loss: 0.4127 - accuracy: 0.9489 - val_loss: 0.1755 - val_accuracy: 0.9317\n",
            "Epoch 18/20\n",
            "2765/2765 [==============================] - ETA: 0s - loss: 0.4095 - accuracy: 0.9497\n",
            "Epoch 18: val_loss did not improve from 0.14886\n",
            "2765/2765 [==============================] - 94s 34ms/step - loss: 0.4095 - accuracy: 0.9497 - val_loss: 0.1617 - val_accuracy: 0.9461\n",
            "Epoch 19/20\n",
            "2765/2765 [==============================] - ETA: 0s - loss: 0.4059 - accuracy: 0.9502\n",
            "Epoch 19: val_loss did not improve from 0.14886\n",
            "2765/2765 [==============================] - 83s 30ms/step - loss: 0.4059 - accuracy: 0.9502 - val_loss: 0.1908 - val_accuracy: 0.9265\n",
            "Epoch 20/20\n",
            "2764/2765 [============================>.] - ETA: 0s - loss: 0.3971 - accuracy: 0.9504\n",
            "Epoch 20: val_loss improved from 0.14886 to 0.13699, saving model to custom_ocr.model\n",
            "INFO:tensorflow:Assets written to: custom_ocr.model\\assets\n",
            "2765/2765 [==============================] - 88s 32ms/step - loss: 0.3972 - accuracy: 0.9504 - val_loss: 0.1370 - val_accuracy: 0.9533\n"
          ]
        }
      ],
      "source": [
        "history= network.fit(augmentation.flow(X_train,y_train,batch_size=batch_size),\n",
        "                                       validation_data=(X_test,y_test),\n",
        "                                       steps_per_epoch=len(X_train)//batch_size,epochs=epochs,\n",
        "                                       class_weight=classes_weights,verbose=1,callbacks = [checkpointer])"
      ]
    },
    {
      "cell_type": "code",
      "execution_count": null,
      "metadata": {},
      "outputs": [
        {
          "name": "stdout",
          "output_type": "stream",
          "text": [
            "TensorFlow version: 2.8.0\n",
            "Num GPUs Available:  1\n"
          ]
        }
      ],
      "source": [
        "import tensorflow as tf\n",
        "print(\"TensorFlow version:\", tf.__version__)\n",
        "print(\"Num GPUs Available: \", len(tf.config.list_physical_devices('GPU')))"
      ]
    },
    {
      "cell_type": "code",
      "execution_count": 55,
      "metadata": {},
      "outputs": [
        {
          "data": {
            "text/plain": [
              "(88490, 28, 28, 1)"
            ]
          },
          "execution_count": 55,
          "metadata": {},
          "output_type": "execute_result"
        }
      ],
      "source": [
        "X_test.shape"
      ]
    },
    {
      "cell_type": "code",
      "execution_count": 52,
      "metadata": {},
      "outputs": [
        {
          "data": {
            "text/plain": [
              "True"
            ]
          },
          "execution_count": 52,
          "metadata": {},
          "output_type": "execute_result"
        }
      ],
      "source": [
        "import tensorflow as tf\n",
        "tf.test.is_built_with_cuda()"
      ]
    },
    {
      "cell_type": "code",
      "execution_count": 56,
      "metadata": {},
      "outputs": [],
      "source": [
        "predictions = network.predict(X_test,batch_size=batch_size)"
      ]
    },
    {
      "cell_type": "code",
      "execution_count": 57,
      "metadata": {},
      "outputs": [
        {
          "data": {
            "text/plain": [
              "array([[7.6329005e-01, 1.4100826e-08, 6.7608710e-11, ..., 1.7044869e-18,\n",
              "        3.9729176e-08, 1.5514798e-14],\n",
              "       [2.5006742e-16, 4.2262680e-13, 1.9354905e-10, ..., 5.7003820e-12,\n",
              "        1.8026770e-12, 9.0521517e-08],\n",
              "       [1.9929030e-09, 4.8143511e-10, 2.4046320e-10, ..., 3.1612332e-10,\n",
              "        2.3359867e-09, 1.3801853e-13],\n",
              "       ...,\n",
              "       [2.3323604e-01, 6.6272046e-09, 6.5053128e-12, ..., 1.0292052e-20,\n",
              "        5.9399496e-10, 5.7896484e-14],\n",
              "       [4.0672826e-20, 3.3536936e-12, 3.1151895e-08, ..., 9.9938285e-01,\n",
              "        1.2689554e-04, 6.3539439e-08],\n",
              "       [1.3136837e-06, 2.3227487e-09, 3.8685947e-08, ..., 6.3981671e-16,\n",
              "        7.5853244e-09, 3.5447140e-10]], dtype=float32)"
            ]
          },
          "execution_count": 57,
          "metadata": {},
          "output_type": "execute_result"
        }
      ],
      "source": [
        "predictions"
      ]
    },
    {
      "cell_type": "code",
      "execution_count": 58,
      "metadata": {},
      "outputs": [
        {
          "data": {
            "text/plain": [
              "array([7.6329005e-01, 1.4100826e-08, 6.7608710e-11, 2.2595881e-09,\n",
              "       3.5393206e-11, 4.1748760e-07, 2.3076072e-07, 6.2705785e-11,\n",
              "       1.4155401e-07, 1.3741990e-07, 7.0050028e-11, 2.1817981e-07,\n",
              "       1.5917296e-06, 2.9911613e-04, 1.0414182e-09, 1.7845512e-17,\n",
              "       3.2536613e-07, 1.6131067e-12, 2.4588961e-16, 1.1954202e-06,\n",
              "       1.1689097e-13, 2.5957780e-10, 4.2510231e-09, 7.1064051e-07,\n",
              "       2.3629223e-01, 9.0973344e-06, 1.6134572e-05, 5.2110198e-11,\n",
              "       3.2788876e-06, 2.6011085e-08, 8.5163738e-05, 9.8623421e-13,\n",
              "       4.3824752e-10, 1.7044869e-18, 3.9729176e-08, 1.5514798e-14],\n",
              "      dtype=float32)"
            ]
          },
          "execution_count": 58,
          "metadata": {},
          "output_type": "execute_result"
        }
      ],
      "source": [
        "predictions[0]"
      ]
    },
    {
      "cell_type": "code",
      "execution_count": 72,
      "metadata": {},
      "outputs": [
        {
          "data": {
            "text/plain": [
              "28"
            ]
          },
          "execution_count": 72,
          "metadata": {},
          "output_type": "execute_result"
        }
      ],
      "source": [
        "np.argmax(predictions[23])"
      ]
    },
    {
      "cell_type": "code",
      "execution_count": 73,
      "metadata": {},
      "outputs": [
        {
          "data": {
            "text/plain": [
              "'N'"
            ]
          },
          "execution_count": 73,
          "metadata": {},
          "output_type": "execute_result"
        }
      ],
      "source": [
        "name_labels[23]"
      ]
    },
    {
      "cell_type": "code",
      "execution_count": 74,
      "metadata": {},
      "outputs": [
        {
          "data": {
            "text/plain": [
              "array([0, 0, 0, 0, 0, 0, 0, 0, 0, 0, 0, 0, 0, 0, 0, 0, 0, 0, 0, 0, 0, 0,\n",
              "       0, 0, 0, 0, 0, 0, 1, 0, 0, 0, 0, 0, 0, 0])"
            ]
          },
          "execution_count": 74,
          "metadata": {},
          "output_type": "execute_result"
        }
      ],
      "source": [
        "y_test[23]"
      ]
    },
    {
      "cell_type": "code",
      "execution_count": 75,
      "metadata": {},
      "outputs": [
        {
          "data": {
            "text/plain": [
              "28"
            ]
          },
          "execution_count": 75,
          "metadata": {},
          "output_type": "execute_result"
        }
      ],
      "source": [
        "np.argmax(y_test[23])"
      ]
    },
    {
      "cell_type": "code",
      "execution_count": 76,
      "metadata": {},
      "outputs": [
        {
          "name": "stdout",
          "output_type": "stream",
          "text": [
            "2766/2766 [==============================] - 10s 4ms/step - loss: 0.1370 - accuracy: 0.9533\n"
          ]
        },
        {
          "data": {
            "text/plain": [
              "[0.13699249923229218, 0.9532602429389954]"
            ]
          },
          "execution_count": 76,
          "metadata": {},
          "output_type": "execute_result"
        }
      ],
      "source": [
        "network.evaluate(X_test,y_test)"
      ]
    },
    {
      "cell_type": "code",
      "execution_count": 77,
      "metadata": {},
      "outputs": [
        {
          "name": "stdout",
          "output_type": "stream",
          "text": [
            "              precision    recall  f1-score   support\n",
            "\n",
            "           0       0.32      0.47      0.38      1381\n",
            "           1       0.97      0.99      0.98      1575\n",
            "           2       0.93      0.95      0.94      1398\n",
            "           3       0.97      0.99      0.98      1428\n",
            "           4       0.89      0.97      0.93      1365\n",
            "           5       0.85      0.90      0.87      1263\n",
            "           6       0.96      0.97      0.97      1375\n",
            "           7       0.97      0.99      0.98      1459\n",
            "           8       0.97      0.99      0.98      1365\n",
            "           9       0.96      0.98      0.97      1392\n",
            "           A       1.00      0.99      0.99      2774\n",
            "           B       0.99      0.98      0.98      1734\n",
            "           C       0.99      0.98      0.99      4682\n",
            "           D       0.92      0.97      0.95      2027\n",
            "           E       0.99      0.99      0.99      2288\n",
            "           F       0.97      0.99      0.98       233\n",
            "           G       0.98      0.92      0.95      1152\n",
            "           H       0.97      0.98      0.97      1444\n",
            "           I       0.98      1.00      0.99       224\n",
            "           J       0.97      0.96      0.97      1698\n",
            "           K       0.96      0.99      0.97      1121\n",
            "           L       0.97      0.98      0.97      2317\n",
            "           M       0.99      0.99      0.99      2467\n",
            "           N       0.99      0.98      0.99      3802\n",
            "           O       0.93      0.87      0.90     11565\n",
            "           P       1.00      0.98      0.99      3868\n",
            "           Q       0.96      0.98      0.97      1162\n",
            "           R       0.98      0.99      0.99      2313\n",
            "           S       0.99      0.97      0.98      9684\n",
            "           T       1.00      0.98      0.99      4499\n",
            "           U       0.98      0.98      0.98      5801\n",
            "           V       0.89      1.00      0.94       836\n",
            "           W       0.99      0.99      0.99      2157\n",
            "           X       0.98      0.99      0.98      1254\n",
            "           Y       0.99      0.89      0.94      2172\n",
            "           Z       0.95      0.94      0.94      1215\n",
            "\n",
            "    accuracy                           0.95     88490\n",
            "   macro avg       0.95      0.96      0.95     88490\n",
            "weighted avg       0.96      0.95      0.96     88490\n",
            "\n"
          ]
        }
      ],
      "source": [
        "print(classification_report(y_test.argmax(axis=1),predictions.argmax(axis=1),target_names=name_labels))"
      ]
    },
    {
      "cell_type": "code",
      "execution_count": 79,
      "metadata": {},
      "outputs": [
        {
          "data": {
            "text/plain": [
              "dict_keys(['loss', 'accuracy', 'val_loss', 'val_accuracy'])"
            ]
          },
          "execution_count": 79,
          "metadata": {},
          "output_type": "execute_result"
        }
      ],
      "source": [
        "history.history.keys()"
      ]
    },
    {
      "cell_type": "code",
      "execution_count": 80,
      "metadata": {},
      "outputs": [
        {
          "data": {
            "text/plain": [
              "[<matplotlib.lines.Line2D at 0x1b74d722f10>]"
            ]
          },
          "execution_count": 80,
          "metadata": {},
          "output_type": "execute_result"
        },
        {
          "data": {
            "image/png": "[encoded data removed]",
            "text/plain": [
              "<Figure size 640x480 with 1 Axes>"
            ]
          },
          "metadata": {},
          "output_type": "display_data"
        }
      ],
      "source": [
        "plt.plot(history.history[\"val_loss\"])"
      ]
    },
    {
      "cell_type": "code",
      "execution_count": 81,
      "metadata": {},
      "outputs": [
        {
          "data": {
            "text/plain": [
              "[<matplotlib.lines.Line2D at 0x1b74e15d580>]"
            ]
          },
          "execution_count": 81,
          "metadata": {},
          "output_type": "execute_result"
        },
        {
          "data": {
            "image/png": "[encoded data removed]",
            "text/plain": [
              "<Figure size 640x480 with 1 Axes>"
            ]
          },
          "metadata": {},
          "output_type": "display_data"
        }
      ],
      "source": [
        "plt.plot(history.history[\"val_accuracy\"])"
      ]
    }
  ],
  "metadata": {
    "colab": {
      "provenance": []
    },
    "kernelspec": {
      "display_name": "Python 3",
      "name": "python3"
    },
    "language_info": {
      "codemirror_mode": {
        "name": "ipython",
        "version": 3
      },
      "file_extension": ".py",
      "mimetype": "text/x-python",
      "name": "python",
      "nbconvert_exporter": "python",
      "pygments_lexer": "ipython3",
      "version": "3.9.12"
    }
  },
  "nbformat": 4,
  "nbformat_minor": 0
}
